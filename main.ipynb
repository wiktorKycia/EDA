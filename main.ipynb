{
 "cells": [
  {
   "cell_type": "markdown",
   "id": "ed732ed3f0637bd4",
   "metadata": {},
   "source": "0. Imports and reading data"
  },
  {
   "cell_type": "code",
   "id": "6cf0b539bc7116c2",
   "metadata": {
    "collapsed": true,
    "ExecuteTime": {
     "end_time": "2025-08-28T11:51:03.675885Z",
     "start_time": "2025-08-28T11:51:03.575801Z"
    }
   },
   "source": [
    "import pandas as pd\n",
    "import numpy as np\n",
    "import seaborn as sns\n",
    "import matplotlib.pylab as plt\n",
    "plt.style.use('ggplot')\n",
    "pd.set_option('display.max_columns', 200) # in order to always display every column"
   ],
   "outputs": [],
   "execution_count": 1
  },
  {
   "metadata": {
    "ExecuteTime": {
     "end_time": "2025-08-28T11:51:06.907838Z",
     "start_time": "2025-08-28T11:51:06.470247Z"
    }
   },
   "cell_type": "code",
   "source": "df = pd.read_csv(\"data/Specjalnosci_lozka.csv\")",
   "id": "35b9f20f6cde1c05",
   "outputs": [],
   "execution_count": 2
  },
  {
   "metadata": {},
   "cell_type": "markdown",
   "source": [
    "1. Data understanding\n",
    "\n",
    "- Dataframe `shape`\n",
    "- `head` and `tail`\n",
    "- `columns`\n",
    "- `dtypes`\n",
    "- `describe`"
   ],
   "id": "c73341ce18168f2"
  },
  {
   "metadata": {
    "ExecuteTime": {
     "end_time": "2025-08-28T11:51:09.059043Z",
     "start_time": "2025-08-28T11:51:09.037683Z"
    }
   },
   "cell_type": "code",
   "source": "df.shape",
   "id": "df5a6990792d4b48",
   "outputs": [
    {
     "data": {
      "text/plain": [
       "(51153, 11)"
      ]
     },
     "execution_count": 3,
     "metadata": {},
     "output_type": "execute_result"
    }
   ],
   "execution_count": 3
  },
  {
   "metadata": {
    "ExecuteTime": {
     "end_time": "2025-08-28T11:51:11.076145Z",
     "start_time": "2025-08-28T11:51:11.060335Z"
    }
   },
   "cell_type": "code",
   "source": "df.head",
   "id": "1ae70312de15200f",
   "outputs": [
    {
     "data": {
      "text/plain": [
       "<bound method NDFrame.head of         Rok         Województwo         Powiat         Gmina  \\\n",
       "0      2017        dolnośląskie  bolesławiecki  Nowogrodziec   \n",
       "1      2017        dolnośląskie  bolesławiecki   Bolesławiec   \n",
       "2      2017        dolnośląskie  bolesławiecki   Bolesławiec   \n",
       "3      2017        dolnośląskie  bolesławiecki   Bolesławiec   \n",
       "4      2017        dolnośląskie  bolesławiecki   Bolesławiec   \n",
       "...     ...                 ...            ...           ...   \n",
       "51148  2023            opolskie       m. Opole         Opole   \n",
       "51149  2023             śląskie    m. Katowice      Katowice   \n",
       "51150  2023       wielkopolskie      m. Poznań        Poznań   \n",
       "51151  2023       wielkopolskie      m. Poznań        Poznań   \n",
       "51152  2023  zachodniopomorskie    m. Szczecin      Szczecin   \n",
       "\n",
       "           Poziom sieci PSZ  \\\n",
       "0               Poza siecią   \n",
       "1         Szpital I stopnia   \n",
       "2         Szpital I stopnia   \n",
       "3         Szpital I stopnia   \n",
       "4         Szpital I stopnia   \n",
       "...                     ...   \n",
       "51148           Poza siecią   \n",
       "51149  Szpital onkologiczny   \n",
       "51150  Szpital onkologiczny   \n",
       "51151  Szpital ogólnopolski   \n",
       "51152  Szpital ogólnopolski   \n",
       "\n",
       "                                        Rodzaj Świadczeń  \\\n",
       "0                Ośrodki (Zespoły) Opieki Pozaszpitalnej   \n",
       "1      Oddziały Szpitalne i Inne Komórki Opieki Szpit...   \n",
       "2      Oddziały Szpitalne i Inne Komórki Opieki Szpit...   \n",
       "3      Oddziały Szpitalne i Inne Komórki Opieki Szpit...   \n",
       "4      Oddziały Szpitalne i Inne Komórki Opieki Szpit...   \n",
       "...                                                  ...   \n",
       "51148  Inne Komórki Organizacyjne Działalnosci Medycznej   \n",
       "51149  Inne Komórki Organizacyjne Działalnosci Medycznej   \n",
       "51150  Inne Komórki Organizacyjne Działalnosci Medycznej   \n",
       "51151  Inne Komórki Organizacyjne Działalnosci Medycznej   \n",
       "51152  Inne Komórki Organizacyjne Działalnosci Medycznej   \n",
       "\n",
       "                              Nazwa Specjalności komórki  \\\n",
       "0      Hospicjum stacjonarne/stacjonarny ośrodek opie...   \n",
       "1                            Oddział chorób wewnętrznych   \n",
       "2                                  Oddział neurologiczny   \n",
       "3           Oddział anestezjologii i intensywnej terapii   \n",
       "4                               Oddział chorób zakaźnych   \n",
       "...                                                  ...   \n",
       "51148  Inna i nieokreślona komórka działalności medyc...   \n",
       "51149  Inna i nieokreślona komórka działalności medyc...   \n",
       "51150  Inna i nieokreślona komórka działalności medyc...   \n",
       "51151  Inna i nieokreślona komórka działalności medyc...   \n",
       "51152  Inna i nieokreślona komórka działalności medyc...   \n",
       "\n",
       "      Kod specjalności komórki Liczba oddziałów  Liczba łóżek 31.12  \\\n",
       "0                         2184                1                  15   \n",
       "1                         4000                1                  31   \n",
       "2                         4220                1                  12   \n",
       "3                         4260                1                   7   \n",
       "4                         4340                1                  11   \n",
       "...                        ...              ...                 ...   \n",
       "51148                     9000                1                  26   \n",
       "51149                     9000                1                   5   \n",
       "51150                     9000                1                   5   \n",
       "51151                     9000                1                   0   \n",
       "51152                     9000                1                  10   \n",
       "\n",
       "      Średnioroczna liczba łóżek  \n",
       "0                             15  \n",
       "1                             31  \n",
       "2                             12  \n",
       "3                              7  \n",
       "4                             11  \n",
       "...                          ...  \n",
       "51148                         26  \n",
       "51149                          5  \n",
       "51150                          5  \n",
       "51151                          0  \n",
       "51152                          5  \n",
       "\n",
       "[51153 rows x 11 columns]>"
      ]
     },
     "execution_count": 4,
     "metadata": {},
     "output_type": "execute_result"
    }
   ],
   "execution_count": 4
  },
  {
   "metadata": {
    "ExecuteTime": {
     "end_time": "2025-08-26T10:48:19.786715Z",
     "start_time": "2025-08-26T10:48:19.777119Z"
    }
   },
   "cell_type": "code",
   "source": "df.columns",
   "id": "df7b20a25d586901",
   "outputs": [
    {
     "data": {
      "text/plain": [
       "Index(['Rok', 'Województwo', 'Powiat', 'Gmina', 'Poziom sieci PSZ',\n",
       "       'Rodzaj Świadczeń', 'Nazwa Specjalności komórki',\n",
       "       'Kod specjalności komórki', 'Liczba oddziałów', 'Liczba łóżek 31.12',\n",
       "       'Średnioroczna liczba łóżek'],\n",
       "      dtype='object')"
      ]
     },
     "execution_count": 8,
     "metadata": {},
     "output_type": "execute_result"
    }
   ],
   "execution_count": 8
  },
  {
   "metadata": {
    "ExecuteTime": {
     "end_time": "2025-08-26T10:47:08.101410Z",
     "start_time": "2025-08-26T10:47:08.093848Z"
    }
   },
   "cell_type": "code",
   "source": "df.dtypes",
   "id": "9e8c19a568ec8e3",
   "outputs": [
    {
     "data": {
      "text/plain": [
       "Rok                            int64\n",
       "Województwo                   object\n",
       "Powiat                        object\n",
       "Gmina                         object\n",
       "Poziom sieci PSZ              object\n",
       "Rodzaj Świadczeń              object\n",
       "Nazwa Specjalności komórki    object\n",
       "Kod specjalności komórki      object\n",
       "Liczba oddziałów              object\n",
       "Liczba łóżek 31.12             int64\n",
       "Średnioroczna liczba łóżek    object\n",
       "dtype: object"
      ]
     },
     "execution_count": 6,
     "metadata": {},
     "output_type": "execute_result"
    }
   ],
   "execution_count": 6
  },
  {
   "metadata": {
    "ExecuteTime": {
     "end_time": "2025-08-26T10:47:23.888608Z",
     "start_time": "2025-08-26T10:47:23.845495Z"
    }
   },
   "cell_type": "code",
   "source": "df.describe()",
   "id": "382a216e23d471ba",
   "outputs": [
    {
     "data": {
      "text/plain": [
       "                Rok  Liczba łóżek 31.12\n",
       "count  51153.000000        51153.000000\n",
       "mean    2019.996931           38.363244\n",
       "std        2.000657          110.572200\n",
       "min     2017.000000            0.000000\n",
       "25%     2018.000000           14.000000\n",
       "50%     2020.000000           24.000000\n",
       "75%     2022.000000           39.000000\n",
       "max     2023.000000         5618.000000"
      ],
      "text/html": [
       "<div>\n",
       "<style scoped>\n",
       "    .dataframe tbody tr th:only-of-type {\n",
       "        vertical-align: middle;\n",
       "    }\n",
       "\n",
       "    .dataframe tbody tr th {\n",
       "        vertical-align: top;\n",
       "    }\n",
       "\n",
       "    .dataframe thead th {\n",
       "        text-align: right;\n",
       "    }\n",
       "</style>\n",
       "<table border=\"1\" class=\"dataframe\">\n",
       "  <thead>\n",
       "    <tr style=\"text-align: right;\">\n",
       "      <th></th>\n",
       "      <th>Rok</th>\n",
       "      <th>Liczba łóżek 31.12</th>\n",
       "    </tr>\n",
       "  </thead>\n",
       "  <tbody>\n",
       "    <tr>\n",
       "      <th>count</th>\n",
       "      <td>51153.000000</td>\n",
       "      <td>51153.000000</td>\n",
       "    </tr>\n",
       "    <tr>\n",
       "      <th>mean</th>\n",
       "      <td>2019.996931</td>\n",
       "      <td>38.363244</td>\n",
       "    </tr>\n",
       "    <tr>\n",
       "      <th>std</th>\n",
       "      <td>2.000657</td>\n",
       "      <td>110.572200</td>\n",
       "    </tr>\n",
       "    <tr>\n",
       "      <th>min</th>\n",
       "      <td>2017.000000</td>\n",
       "      <td>0.000000</td>\n",
       "    </tr>\n",
       "    <tr>\n",
       "      <th>25%</th>\n",
       "      <td>2018.000000</td>\n",
       "      <td>14.000000</td>\n",
       "    </tr>\n",
       "    <tr>\n",
       "      <th>50%</th>\n",
       "      <td>2020.000000</td>\n",
       "      <td>24.000000</td>\n",
       "    </tr>\n",
       "    <tr>\n",
       "      <th>75%</th>\n",
       "      <td>2022.000000</td>\n",
       "      <td>39.000000</td>\n",
       "    </tr>\n",
       "    <tr>\n",
       "      <th>max</th>\n",
       "      <td>2023.000000</td>\n",
       "      <td>5618.000000</td>\n",
       "    </tr>\n",
       "  </tbody>\n",
       "</table>\n",
       "</div>"
      ]
     },
     "execution_count": 7,
     "metadata": {},
     "output_type": "execute_result"
    }
   ],
   "execution_count": 7
  },
  {
   "metadata": {},
   "cell_type": "markdown",
   "source": [
    "2. Data preparation\n",
    "\n",
    "- dropping irrelevant columns and rows\n",
    "- identifying duplicated columns\n",
    "- renaming columns\n",
    "- feature creation"
   ],
   "id": "7b4ba8cdd5890ca3"
  },
  {
   "metadata": {
    "ExecuteTime": {
     "end_time": "2025-08-28T11:58:02.505521Z",
     "start_time": "2025-08-28T11:58:02.464825Z"
    }
   },
   "cell_type": "code",
   "source": "df.head()",
   "id": "105c5b3ce376c30d",
   "outputs": [
    {
     "data": {
      "text/plain": [
       "    Rok   Województwo         Powiat         Gmina   Poziom sieci PSZ  \\\n",
       "0  2017  dolnośląskie  bolesławiecki  Nowogrodziec        Poza siecią   \n",
       "1  2017  dolnośląskie  bolesławiecki   Bolesławiec  Szpital I stopnia   \n",
       "2  2017  dolnośląskie  bolesławiecki   Bolesławiec  Szpital I stopnia   \n",
       "3  2017  dolnośląskie  bolesławiecki   Bolesławiec  Szpital I stopnia   \n",
       "4  2017  dolnośląskie  bolesławiecki   Bolesławiec  Szpital I stopnia   \n",
       "\n",
       "                                    Rodzaj Świadczeń  \\\n",
       "0            Ośrodki (Zespoły) Opieki Pozaszpitalnej   \n",
       "1  Oddziały Szpitalne i Inne Komórki Opieki Szpit...   \n",
       "2  Oddziały Szpitalne i Inne Komórki Opieki Szpit...   \n",
       "3  Oddziały Szpitalne i Inne Komórki Opieki Szpit...   \n",
       "4  Oddziały Szpitalne i Inne Komórki Opieki Szpit...   \n",
       "\n",
       "                          Nazwa Specjalności komórki Kod specjalności komórki  \\\n",
       "0  Hospicjum stacjonarne/stacjonarny ośrodek opie...                     2184   \n",
       "1                        Oddział chorób wewnętrznych                     4000   \n",
       "2                              Oddział neurologiczny                     4220   \n",
       "3       Oddział anestezjologii i intensywnej terapii                     4260   \n",
       "4                           Oddział chorób zakaźnych                     4340   \n",
       "\n",
       "  Liczba oddziałów  Liczba łóżek 31.12 Średnioroczna liczba łóżek  \n",
       "0                1                  15                         15  \n",
       "1                1                  31                         31  \n",
       "2                1                  12                         12  \n",
       "3                1                   7                          7  \n",
       "4                1                  11                         11  "
      ],
      "text/html": [
       "<div>\n",
       "<style scoped>\n",
       "    .dataframe tbody tr th:only-of-type {\n",
       "        vertical-align: middle;\n",
       "    }\n",
       "\n",
       "    .dataframe tbody tr th {\n",
       "        vertical-align: top;\n",
       "    }\n",
       "\n",
       "    .dataframe thead th {\n",
       "        text-align: right;\n",
       "    }\n",
       "</style>\n",
       "<table border=\"1\" class=\"dataframe\">\n",
       "  <thead>\n",
       "    <tr style=\"text-align: right;\">\n",
       "      <th></th>\n",
       "      <th>Rok</th>\n",
       "      <th>Województwo</th>\n",
       "      <th>Powiat</th>\n",
       "      <th>Gmina</th>\n",
       "      <th>Poziom sieci PSZ</th>\n",
       "      <th>Rodzaj Świadczeń</th>\n",
       "      <th>Nazwa Specjalności komórki</th>\n",
       "      <th>Kod specjalności komórki</th>\n",
       "      <th>Liczba oddziałów</th>\n",
       "      <th>Liczba łóżek 31.12</th>\n",
       "      <th>Średnioroczna liczba łóżek</th>\n",
       "    </tr>\n",
       "  </thead>\n",
       "  <tbody>\n",
       "    <tr>\n",
       "      <th>0</th>\n",
       "      <td>2017</td>\n",
       "      <td>dolnośląskie</td>\n",
       "      <td>bolesławiecki</td>\n",
       "      <td>Nowogrodziec</td>\n",
       "      <td>Poza siecią</td>\n",
       "      <td>Ośrodki (Zespoły) Opieki Pozaszpitalnej</td>\n",
       "      <td>Hospicjum stacjonarne/stacjonarny ośrodek opie...</td>\n",
       "      <td>2184</td>\n",
       "      <td>1</td>\n",
       "      <td>15</td>\n",
       "      <td>15</td>\n",
       "    </tr>\n",
       "    <tr>\n",
       "      <th>1</th>\n",
       "      <td>2017</td>\n",
       "      <td>dolnośląskie</td>\n",
       "      <td>bolesławiecki</td>\n",
       "      <td>Bolesławiec</td>\n",
       "      <td>Szpital I stopnia</td>\n",
       "      <td>Oddziały Szpitalne i Inne Komórki Opieki Szpit...</td>\n",
       "      <td>Oddział chorób wewnętrznych</td>\n",
       "      <td>4000</td>\n",
       "      <td>1</td>\n",
       "      <td>31</td>\n",
       "      <td>31</td>\n",
       "    </tr>\n",
       "    <tr>\n",
       "      <th>2</th>\n",
       "      <td>2017</td>\n",
       "      <td>dolnośląskie</td>\n",
       "      <td>bolesławiecki</td>\n",
       "      <td>Bolesławiec</td>\n",
       "      <td>Szpital I stopnia</td>\n",
       "      <td>Oddziały Szpitalne i Inne Komórki Opieki Szpit...</td>\n",
       "      <td>Oddział neurologiczny</td>\n",
       "      <td>4220</td>\n",
       "      <td>1</td>\n",
       "      <td>12</td>\n",
       "      <td>12</td>\n",
       "    </tr>\n",
       "    <tr>\n",
       "      <th>3</th>\n",
       "      <td>2017</td>\n",
       "      <td>dolnośląskie</td>\n",
       "      <td>bolesławiecki</td>\n",
       "      <td>Bolesławiec</td>\n",
       "      <td>Szpital I stopnia</td>\n",
       "      <td>Oddziały Szpitalne i Inne Komórki Opieki Szpit...</td>\n",
       "      <td>Oddział anestezjologii i intensywnej terapii</td>\n",
       "      <td>4260</td>\n",
       "      <td>1</td>\n",
       "      <td>7</td>\n",
       "      <td>7</td>\n",
       "    </tr>\n",
       "    <tr>\n",
       "      <th>4</th>\n",
       "      <td>2017</td>\n",
       "      <td>dolnośląskie</td>\n",
       "      <td>bolesławiecki</td>\n",
       "      <td>Bolesławiec</td>\n",
       "      <td>Szpital I stopnia</td>\n",
       "      <td>Oddziały Szpitalne i Inne Komórki Opieki Szpit...</td>\n",
       "      <td>Oddział chorób zakaźnych</td>\n",
       "      <td>4340</td>\n",
       "      <td>1</td>\n",
       "      <td>11</td>\n",
       "      <td>11</td>\n",
       "    </tr>\n",
       "  </tbody>\n",
       "</table>\n",
       "</div>"
      ]
     },
     "execution_count": 5,
     "metadata": {},
     "output_type": "execute_result"
    }
   ],
   "execution_count": 5
  },
  {
   "metadata": {
    "ExecuteTime": {
     "end_time": "2025-08-28T12:05:45.847737Z",
     "start_time": "2025-08-28T12:05:45.837176Z"
    }
   },
   "cell_type": "code",
   "source": "df = df.drop(columns=['Kod specjalności komórki'])",
   "id": "874e05927ab27bf8",
   "outputs": [],
   "execution_count": 7
  },
  {
   "cell_type": "markdown",
   "id": "f5ce35fb6cc6b208",
   "metadata": {},
   "source": [
    "2. Loading data"
   ]
  },
  {
   "cell_type": "code",
   "id": "eef02e56a5cb05a3",
   "metadata": {
    "ExecuteTime": {
     "end_time": "2025-08-26T08:21:09.662693Z",
     "start_time": "2025-08-26T08:21:09.395974Z"
    }
   },
   "source": [
    "beds_df = pd.read_csv(\"data/Specjalnosci_lozka.csv\")\n",
    "beds_df.head()"
   ],
   "outputs": [
    {
     "data": {
      "text/plain": [
       "    Rok   Województwo         Powiat         Gmina   Poziom sieci PSZ  \\\n",
       "0  2017  dolnośląskie  bolesławiecki  Nowogrodziec        Poza siecią   \n",
       "1  2017  dolnośląskie  bolesławiecki   Bolesławiec  Szpital I stopnia   \n",
       "2  2017  dolnośląskie  bolesławiecki   Bolesławiec  Szpital I stopnia   \n",
       "3  2017  dolnośląskie  bolesławiecki   Bolesławiec  Szpital I stopnia   \n",
       "4  2017  dolnośląskie  bolesławiecki   Bolesławiec  Szpital I stopnia   \n",
       "\n",
       "                                    Rodzaj Świadczeń  \\\n",
       "0            Ośrodki (Zespoły) Opieki Pozaszpitalnej   \n",
       "1  Oddziały Szpitalne i Inne Komórki Opieki Szpit...   \n",
       "2  Oddziały Szpitalne i Inne Komórki Opieki Szpit...   \n",
       "3  Oddziały Szpitalne i Inne Komórki Opieki Szpit...   \n",
       "4  Oddziały Szpitalne i Inne Komórki Opieki Szpit...   \n",
       "\n",
       "                          Nazwa Specjalności komórki Kod specjalności komórki  \\\n",
       "0  Hospicjum stacjonarne/stacjonarny ośrodek opie...                     2184   \n",
       "1                        Oddział chorób wewnętrznych                     4000   \n",
       "2                              Oddział neurologiczny                     4220   \n",
       "3       Oddział anestezjologii i intensywnej terapii                     4260   \n",
       "4                           Oddział chorób zakaźnych                     4340   \n",
       "\n",
       "  Liczba oddziałów  Liczba łóżek 31.12 Średnioroczna liczba łóżek  \n",
       "0                1                  15                         15  \n",
       "1                1                  31                         31  \n",
       "2                1                  12                         12  \n",
       "3                1                   7                          7  \n",
       "4                1                  11                         11  "
      ],
      "text/html": [
       "<div>\n",
       "<style scoped>\n",
       "    .dataframe tbody tr th:only-of-type {\n",
       "        vertical-align: middle;\n",
       "    }\n",
       "\n",
       "    .dataframe tbody tr th {\n",
       "        vertical-align: top;\n",
       "    }\n",
       "\n",
       "    .dataframe thead th {\n",
       "        text-align: right;\n",
       "    }\n",
       "</style>\n",
       "<table border=\"1\" class=\"dataframe\">\n",
       "  <thead>\n",
       "    <tr style=\"text-align: right;\">\n",
       "      <th></th>\n",
       "      <th>Rok</th>\n",
       "      <th>Województwo</th>\n",
       "      <th>Powiat</th>\n",
       "      <th>Gmina</th>\n",
       "      <th>Poziom sieci PSZ</th>\n",
       "      <th>Rodzaj Świadczeń</th>\n",
       "      <th>Nazwa Specjalności komórki</th>\n",
       "      <th>Kod specjalności komórki</th>\n",
       "      <th>Liczba oddziałów</th>\n",
       "      <th>Liczba łóżek 31.12</th>\n",
       "      <th>Średnioroczna liczba łóżek</th>\n",
       "    </tr>\n",
       "  </thead>\n",
       "  <tbody>\n",
       "    <tr>\n",
       "      <th>0</th>\n",
       "      <td>2017</td>\n",
       "      <td>dolnośląskie</td>\n",
       "      <td>bolesławiecki</td>\n",
       "      <td>Nowogrodziec</td>\n",
       "      <td>Poza siecią</td>\n",
       "      <td>Ośrodki (Zespoły) Opieki Pozaszpitalnej</td>\n",
       "      <td>Hospicjum stacjonarne/stacjonarny ośrodek opie...</td>\n",
       "      <td>2184</td>\n",
       "      <td>1</td>\n",
       "      <td>15</td>\n",
       "      <td>15</td>\n",
       "    </tr>\n",
       "    <tr>\n",
       "      <th>1</th>\n",
       "      <td>2017</td>\n",
       "      <td>dolnośląskie</td>\n",
       "      <td>bolesławiecki</td>\n",
       "      <td>Bolesławiec</td>\n",
       "      <td>Szpital I stopnia</td>\n",
       "      <td>Oddziały Szpitalne i Inne Komórki Opieki Szpit...</td>\n",
       "      <td>Oddział chorób wewnętrznych</td>\n",
       "      <td>4000</td>\n",
       "      <td>1</td>\n",
       "      <td>31</td>\n",
       "      <td>31</td>\n",
       "    </tr>\n",
       "    <tr>\n",
       "      <th>2</th>\n",
       "      <td>2017</td>\n",
       "      <td>dolnośląskie</td>\n",
       "      <td>bolesławiecki</td>\n",
       "      <td>Bolesławiec</td>\n",
       "      <td>Szpital I stopnia</td>\n",
       "      <td>Oddziały Szpitalne i Inne Komórki Opieki Szpit...</td>\n",
       "      <td>Oddział neurologiczny</td>\n",
       "      <td>4220</td>\n",
       "      <td>1</td>\n",
       "      <td>12</td>\n",
       "      <td>12</td>\n",
       "    </tr>\n",
       "    <tr>\n",
       "      <th>3</th>\n",
       "      <td>2017</td>\n",
       "      <td>dolnośląskie</td>\n",
       "      <td>bolesławiecki</td>\n",
       "      <td>Bolesławiec</td>\n",
       "      <td>Szpital I stopnia</td>\n",
       "      <td>Oddziały Szpitalne i Inne Komórki Opieki Szpit...</td>\n",
       "      <td>Oddział anestezjologii i intensywnej terapii</td>\n",
       "      <td>4260</td>\n",
       "      <td>1</td>\n",
       "      <td>7</td>\n",
       "      <td>7</td>\n",
       "    </tr>\n",
       "    <tr>\n",
       "      <th>4</th>\n",
       "      <td>2017</td>\n",
       "      <td>dolnośląskie</td>\n",
       "      <td>bolesławiecki</td>\n",
       "      <td>Bolesławiec</td>\n",
       "      <td>Szpital I stopnia</td>\n",
       "      <td>Oddziały Szpitalne i Inne Komórki Opieki Szpit...</td>\n",
       "      <td>Oddział chorób zakaźnych</td>\n",
       "      <td>4340</td>\n",
       "      <td>1</td>\n",
       "      <td>11</td>\n",
       "      <td>11</td>\n",
       "    </tr>\n",
       "  </tbody>\n",
       "</table>\n",
       "</div>"
      ]
     },
     "execution_count": 2,
     "metadata": {},
     "output_type": "execute_result"
    }
   ],
   "execution_count": 2
  },
  {
   "cell_type": "markdown",
   "id": "d6ad57c8dc5c391b",
   "metadata": {},
   "source": [
    "3. Data description"
   ]
  },
  {
   "cell_type": "code",
   "id": "e7d6ee276b81da07",
   "metadata": {},
   "source": [
    "print(beds_df.dtypes)\n",
    "beds_df.describe()"
   ],
   "outputs": [],
   "execution_count": null
  },
  {
   "cell_type": "markdown",
   "id": "cdfbc4d9f0a2015",
   "metadata": {},
   "source": [
    "4. Removing null values"
   ]
  },
  {
   "cell_type": "code",
   "id": "791380f96f2f1c54",
   "metadata": {
    "ExecuteTime": {
     "end_time": "2025-08-26T08:21:19.008311Z",
     "start_time": "2025-08-26T08:21:18.714378Z"
    }
   },
   "source": [
    "missing_values = ['brak danych', 'brak', 'n/a', 'N/A', '']\n",
    "beds_df.replace(missing_values, pd.NA, inplace=True)"
   ],
   "outputs": [],
   "execution_count": 3
  },
  {
   "cell_type": "code",
   "id": "37fc37515f1aa249",
   "metadata": {
    "ExecuteTime": {
     "end_time": "2025-08-26T08:21:21.525589Z",
     "start_time": "2025-08-26T08:21:21.405739Z"
    }
   },
   "source": [
    "print(beds_df.isna().sum())"
   ],
   "outputs": [
    {
     "name": "stdout",
     "output_type": "stream",
     "text": [
      "Rok                             0\n",
      "Województwo                     0\n",
      "Powiat                          0\n",
      "Gmina                           0\n",
      "Poziom sieci PSZ                0\n",
      "Rodzaj Świadczeń                0\n",
      "Nazwa Specjalności komórki      0\n",
      "Kod specjalności komórki        0\n",
      "Liczba oddziałów              100\n",
      "Liczba łóżek 31.12              0\n",
      "Średnioroczna liczba łóżek      0\n",
      "dtype: int64\n"
     ]
    }
   ],
   "execution_count": 4
  },
  {
   "cell_type": "code",
   "id": "247fabc73726337e",
   "metadata": {
    "ExecuteTime": {
     "end_time": "2025-08-26T08:21:29.019778Z",
     "start_time": "2025-08-26T08:21:28.892674Z"
    }
   },
   "source": [
    "beds_df = beds_df.dropna()"
   ],
   "outputs": [],
   "execution_count": 5
  },
  {
   "cell_type": "code",
   "id": "171d3eb07a201780",
   "metadata": {
    "ExecuteTime": {
     "end_time": "2025-08-26T08:21:32.862768Z",
     "start_time": "2025-08-26T08:21:32.853645Z"
    }
   },
   "source": [
    "def display_distinct_values(column: str) -> None:\n",
    "\tprint(list(set(list(beds_df[column]))))"
   ],
   "outputs": [],
   "execution_count": 6
  },
  {
   "cell_type": "markdown",
   "id": "dadb5ea138f9b5e7",
   "metadata": {},
   "source": [
    "5. Adjusting data types"
   ]
  },
  {
   "cell_type": "code",
   "id": "547c99c5e061daa7",
   "metadata": {
    "ExecuteTime": {
     "end_time": "2025-08-26T08:21:38.336941Z",
     "start_time": "2025-08-26T08:21:38.275066Z"
    }
   },
   "source": [
    "beds_df['Średnioroczna liczba łóżek'] = beds_df['Średnioroczna liczba łóżek'].astype(str).str.replace(',', '.')"
   ],
   "outputs": [],
   "execution_count": 7
  },
  {
   "cell_type": "code",
   "id": "b6d6a13a7dfc89ad",
   "metadata": {
    "ExecuteTime": {
     "end_time": "2025-08-26T08:21:41.340553Z",
     "start_time": "2025-08-26T08:21:41.265719Z"
    }
   },
   "source": [
    "beds_df = beds_df.astype({'Liczba oddziałów': 'int64', 'Liczba łóżek 31.12': 'int64', 'Średnioroczna liczba łóżek': 'float64'})"
   ],
   "outputs": [],
   "execution_count": 8
  },
  {
   "cell_type": "code",
   "id": "52e3d2fcea4c7e5e",
   "metadata": {},
   "source": [
    "beds_df"
   ],
   "outputs": [],
   "execution_count": null
  },
  {
   "cell_type": "markdown",
   "id": "7b652363c379d691",
   "metadata": {},
   "source": [
    "6. Plots"
   ]
  },
  {
   "cell_type": "code",
   "id": "d776e51a652d2a3d",
   "metadata": {},
   "source": [
    "beds_df.hist(figsize=(15, 15), bins=50, xlabelsize=10, ylabelsize=10)"
   ],
   "outputs": [],
   "execution_count": null
  },
  {
   "cell_type": "code",
   "id": "642d80baca9aed72",
   "metadata": {
    "ExecuteTime": {
     "end_time": "2025-08-26T08:22:18.193247Z",
     "start_time": "2025-08-26T08:22:17.672673Z"
    }
   },
   "source": [
    "df = beds_df.loc[beds_df['Rok'] == 2023, ['Województwo', 'Liczba oddziałów']].groupby('Województwo').agg({'Liczba oddziałów': 'sum'})\n",
    "df = df.sort_values('Liczba oddziałów', ascending=False)\n",
    "df.plot(kind='bar', figsize=(10,5))\n",
    "plt.title('Liczba oddziałów na województwo')\n",
    "plt.ylabel('Liczba oddziałów')\n",
    "plt.xlabel('Województwo')"
   ],
   "outputs": [
    {
     "data": {
      "text/plain": [
       "Text(0.5, 0, 'Województwo')"
      ]
     },
     "execution_count": 10,
     "metadata": {},
     "output_type": "execute_result"
    },
    {
     "data": {
      "text/plain": [
       "<Figure size 1000x500 with 1 Axes>"
      ],
      "image/png": "[encoded data removed]"
     },
     "metadata": {},
     "output_type": "display_data"
    }
   ],
   "execution_count": 10
  },
  {
   "cell_type": "code",
   "id": "7b474f2d99f9aeb3",
   "metadata": {
    "ExecuteTime": {
     "end_time": "2025-08-26T08:27:21.428930Z",
     "start_time": "2025-08-26T08:27:21.402210Z"
    }
   },
   "source": [
    "print(beds_df.loc[beds_df['Rok'] == 2023].groupby('Województwo')['Liczba oddziałów'].sum().sort_values())"
   ],
   "outputs": [
    {
     "name": "stdout",
     "output_type": "stream",
     "text": [
      "Województwo\n",
      "lubuskie                223\n",
      "opolskie                232\n",
      "świętokrzyskie          306\n",
      "podlaskie               323\n",
      "warmińsko-mazurskie     380\n",
      "zachodniopomorskie      443\n",
      "podkarpackie            485\n",
      "pomorskie               497\n",
      "lubelskie               543\n",
      "kujawsko-pomorskie      545\n",
      "wielkopolskie           629\n",
      "łódzkie                 641\n",
      "małopolskie             736\n",
      "dolnośląskie            812\n",
      "śląskie                1058\n",
      "mazowieckie            1252\n",
      "Name: Liczba oddziałów, dtype: int64\n"
     ]
    }
   ],
   "execution_count": 11
  },
  {
   "cell_type": "code",
   "id": "621cd06a773ba93",
   "metadata": {
    "ExecuteTime": {
     "end_time": "2025-08-26T08:28:46.529656Z",
     "start_time": "2025-08-26T08:28:45.754590Z"
    }
   },
   "source": [
    "df = beds_df.loc[beds_df['Rok'] == 2023, ['Województwo', 'Liczba łóżek 31.12']].groupby('Województwo').agg({'Liczba łóżek 31.12': 'sum'})\n",
    "df = df.sort_values('Liczba łóżek 31.12', ascending=False)\n",
    "df.plot(kind='bar', figsize=(10,5))\n",
    "plt.title('Liczba łóżek na województwo (stan na 31.12.2023')\n",
    "plt.ylabel('Liczba łóżek 31.12')\n",
    "plt.xlabel('Województwo')"
   ],
   "outputs": [
    {
     "data": {
      "text/plain": [
       "Text(0.5, 0, 'Województwo')"
      ]
     },
     "execution_count": 12,
     "metadata": {},
     "output_type": "execute_result"
    },
    {
     "data": {
      "text/plain": [
       "<Figure size 1000x500 with 1 Axes>"
      ],
      "image/png": "[encoded data removed]"
     },
     "metadata": {},
     "output_type": "display_data"
    }
   ],
   "execution_count": 12
  },
  {
   "cell_type": "markdown",
   "id": "5b4b5e54770c3b7",
   "metadata": {},
   "source": [
    "mapka"
   ]
  },
  {
   "metadata": {
    "ExecuteTime": {
     "end_time": "2025-08-26T08:30:51.548315Z",
     "start_time": "2025-08-26T08:30:51.524673Z"
    }
   },
   "cell_type": "code",
   "source": "beds_df",
   "id": "2c118d08de3aece",
   "outputs": [
    {
     "data": {
      "text/plain": [
       "        Rok         Województwo         Powiat         Gmina  \\\n",
       "0      2017        dolnośląskie  bolesławiecki  Nowogrodziec   \n",
       "1      2017        dolnośląskie  bolesławiecki   Bolesławiec   \n",
       "2      2017        dolnośląskie  bolesławiecki   Bolesławiec   \n",
       "3      2017        dolnośląskie  bolesławiecki   Bolesławiec   \n",
       "4      2017        dolnośląskie  bolesławiecki   Bolesławiec   \n",
       "...     ...                 ...            ...           ...   \n",
       "51148  2023            opolskie       m. Opole         Opole   \n",
       "51149  2023             śląskie    m. Katowice      Katowice   \n",
       "51150  2023       wielkopolskie      m. Poznań        Poznań   \n",
       "51151  2023       wielkopolskie      m. Poznań        Poznań   \n",
       "51152  2023  zachodniopomorskie    m. Szczecin      Szczecin   \n",
       "\n",
       "           Poziom sieci PSZ  \\\n",
       "0               Poza siecią   \n",
       "1         Szpital I stopnia   \n",
       "2         Szpital I stopnia   \n",
       "3         Szpital I stopnia   \n",
       "4         Szpital I stopnia   \n",
       "...                     ...   \n",
       "51148           Poza siecią   \n",
       "51149  Szpital onkologiczny   \n",
       "51150  Szpital onkologiczny   \n",
       "51151  Szpital ogólnopolski   \n",
       "51152  Szpital ogólnopolski   \n",
       "\n",
       "                                        Rodzaj Świadczeń  \\\n",
       "0                Ośrodki (Zespoły) Opieki Pozaszpitalnej   \n",
       "1      Oddziały Szpitalne i Inne Komórki Opieki Szpit...   \n",
       "2      Oddziały Szpitalne i Inne Komórki Opieki Szpit...   \n",
       "3      Oddziały Szpitalne i Inne Komórki Opieki Szpit...   \n",
       "4      Oddziały Szpitalne i Inne Komórki Opieki Szpit...   \n",
       "...                                                  ...   \n",
       "51148  Inne Komórki Organizacyjne Działalnosci Medycznej   \n",
       "51149  Inne Komórki Organizacyjne Działalnosci Medycznej   \n",
       "51150  Inne Komórki Organizacyjne Działalnosci Medycznej   \n",
       "51151  Inne Komórki Organizacyjne Działalnosci Medycznej   \n",
       "51152  Inne Komórki Organizacyjne Działalnosci Medycznej   \n",
       "\n",
       "                              Nazwa Specjalności komórki  \\\n",
       "0      Hospicjum stacjonarne/stacjonarny ośrodek opie...   \n",
       "1                            Oddział chorób wewnętrznych   \n",
       "2                                  Oddział neurologiczny   \n",
       "3           Oddział anestezjologii i intensywnej terapii   \n",
       "4                               Oddział chorób zakaźnych   \n",
       "...                                                  ...   \n",
       "51148  Inna i nieokreślona komórka działalności medyc...   \n",
       "51149  Inna i nieokreślona komórka działalności medyc...   \n",
       "51150  Inna i nieokreślona komórka działalności medyc...   \n",
       "51151  Inna i nieokreślona komórka działalności medyc...   \n",
       "51152  Inna i nieokreślona komórka działalności medyc...   \n",
       "\n",
       "      Kod specjalności komórki  Liczba oddziałów  Liczba łóżek 31.12  \\\n",
       "0                         2184                 1                  15   \n",
       "1                         4000                 1                  31   \n",
       "2                         4220                 1                  12   \n",
       "3                         4260                 1                   7   \n",
       "4                         4340                 1                  11   \n",
       "...                        ...               ...                 ...   \n",
       "51148                     9000                 1                  26   \n",
       "51149                     9000                 1                   5   \n",
       "51150                     9000                 1                   5   \n",
       "51151                     9000                 1                   0   \n",
       "51152                     9000                 1                  10   \n",
       "\n",
       "       Średnioroczna liczba łóżek  \n",
       "0                            15.0  \n",
       "1                            31.0  \n",
       "2                            12.0  \n",
       "3                             7.0  \n",
       "4                            11.0  \n",
       "...                           ...  \n",
       "51148                        26.0  \n",
       "51149                         5.0  \n",
       "51150                         5.0  \n",
       "51151                         0.0  \n",
       "51152                         5.0  \n",
       "\n",
       "[51053 rows x 11 columns]"
      ],
      "text/html": [
       "<div>\n",
       "<style scoped>\n",
       "    .dataframe tbody tr th:only-of-type {\n",
       "        vertical-align: middle;\n",
       "    }\n",
       "\n",
       "    .dataframe tbody tr th {\n",
       "        vertical-align: top;\n",
       "    }\n",
       "\n",
       "    .dataframe thead th {\n",
       "        text-align: right;\n",
       "    }\n",
       "</style>\n",
       "<table border=\"1\" class=\"dataframe\">\n",
       "  <thead>\n",
       "    <tr style=\"text-align: right;\">\n",
       "      <th></th>\n",
       "      <th>Rok</th>\n",
       "      <th>Województwo</th>\n",
       "      <th>Powiat</th>\n",
       "      <th>Gmina</th>\n",
       "      <th>Poziom sieci PSZ</th>\n",
       "      <th>Rodzaj Świadczeń</th>\n",
       "      <th>Nazwa Specjalności komórki</th>\n",
       "      <th>Kod specjalności komórki</th>\n",
       "      <th>Liczba oddziałów</th>\n",
       "      <th>Liczba łóżek 31.12</th>\n",
       "      <th>Średnioroczna liczba łóżek</th>\n",
       "    </tr>\n",
       "  </thead>\n",
       "  <tbody>\n",
       "    <tr>\n",
       "      <th>0</th>\n",
       "      <td>2017</td>\n",
       "      <td>dolnośląskie</td>\n",
       "      <td>bolesławiecki</td>\n",
       "      <td>Nowogrodziec</td>\n",
       "      <td>Poza siecią</td>\n",
       "      <td>Ośrodki (Zespoły) Opieki Pozaszpitalnej</td>\n",
       "      <td>Hospicjum stacjonarne/stacjonarny ośrodek opie...</td>\n",
       "      <td>2184</td>\n",
       "      <td>1</td>\n",
       "      <td>15</td>\n",
       "      <td>15.0</td>\n",
       "    </tr>\n",
       "    <tr>\n",
       "      <th>1</th>\n",
       "      <td>2017</td>\n",
       "      <td>dolnośląskie</td>\n",
       "      <td>bolesławiecki</td>\n",
       "      <td>Bolesławiec</td>\n",
       "      <td>Szpital I stopnia</td>\n",
       "      <td>Oddziały Szpitalne i Inne Komórki Opieki Szpit...</td>\n",
       "      <td>Oddział chorób wewnętrznych</td>\n",
       "      <td>4000</td>\n",
       "      <td>1</td>\n",
       "      <td>31</td>\n",
       "      <td>31.0</td>\n",
       "    </tr>\n",
       "    <tr>\n",
       "      <th>2</th>\n",
       "      <td>2017</td>\n",
       "      <td>dolnośląskie</td>\n",
       "      <td>bolesławiecki</td>\n",
       "      <td>Bolesławiec</td>\n",
       "      <td>Szpital I stopnia</td>\n",
       "      <td>Oddziały Szpitalne i Inne Komórki Opieki Szpit...</td>\n",
       "      <td>Oddział neurologiczny</td>\n",
       "      <td>4220</td>\n",
       "      <td>1</td>\n",
       "      <td>12</td>\n",
       "      <td>12.0</td>\n",
       "    </tr>\n",
       "    <tr>\n",
       "      <th>3</th>\n",
       "      <td>2017</td>\n",
       "      <td>dolnośląskie</td>\n",
       "      <td>bolesławiecki</td>\n",
       "      <td>Bolesławiec</td>\n",
       "      <td>Szpital I stopnia</td>\n",
       "      <td>Oddziały Szpitalne i Inne Komórki Opieki Szpit...</td>\n",
       "      <td>Oddział anestezjologii i intensywnej terapii</td>\n",
       "      <td>4260</td>\n",
       "      <td>1</td>\n",
       "      <td>7</td>\n",
       "      <td>7.0</td>\n",
       "    </tr>\n",
       "    <tr>\n",
       "      <th>4</th>\n",
       "      <td>2017</td>\n",
       "      <td>dolnośląskie</td>\n",
       "      <td>bolesławiecki</td>\n",
       "      <td>Bolesławiec</td>\n",
       "      <td>Szpital I stopnia</td>\n",
       "      <td>Oddziały Szpitalne i Inne Komórki Opieki Szpit...</td>\n",
       "      <td>Oddział chorób zakaźnych</td>\n",
       "      <td>4340</td>\n",
       "      <td>1</td>\n",
       "      <td>11</td>\n",
       "      <td>11.0</td>\n",
       "    </tr>\n",
       "    <tr>\n",
       "      <th>...</th>\n",
       "      <td>...</td>\n",
       "      <td>...</td>\n",
       "      <td>...</td>\n",
       "      <td>...</td>\n",
       "      <td>...</td>\n",
       "      <td>...</td>\n",
       "      <td>...</td>\n",
       "      <td>...</td>\n",
       "      <td>...</td>\n",
       "      <td>...</td>\n",
       "      <td>...</td>\n",
       "    </tr>\n",
       "    <tr>\n",
       "      <th>51148</th>\n",
       "      <td>2023</td>\n",
       "      <td>opolskie</td>\n",
       "      <td>m. Opole</td>\n",
       "      <td>Opole</td>\n",
       "      <td>Poza siecią</td>\n",
       "      <td>Inne Komórki Organizacyjne Działalnosci Medycznej</td>\n",
       "      <td>Inna i nieokreślona komórka działalności medyc...</td>\n",
       "      <td>9000</td>\n",
       "      <td>1</td>\n",
       "      <td>26</td>\n",
       "      <td>26.0</td>\n",
       "    </tr>\n",
       "    <tr>\n",
       "      <th>51149</th>\n",
       "      <td>2023</td>\n",
       "      <td>śląskie</td>\n",
       "      <td>m. Katowice</td>\n",
       "      <td>Katowice</td>\n",
       "      <td>Szpital onkologiczny</td>\n",
       "      <td>Inne Komórki Organizacyjne Działalnosci Medycznej</td>\n",
       "      <td>Inna i nieokreślona komórka działalności medyc...</td>\n",
       "      <td>9000</td>\n",
       "      <td>1</td>\n",
       "      <td>5</td>\n",
       "      <td>5.0</td>\n",
       "    </tr>\n",
       "    <tr>\n",
       "      <th>51150</th>\n",
       "      <td>2023</td>\n",
       "      <td>wielkopolskie</td>\n",
       "      <td>m. Poznań</td>\n",
       "      <td>Poznań</td>\n",
       "      <td>Szpital onkologiczny</td>\n",
       "      <td>Inne Komórki Organizacyjne Działalnosci Medycznej</td>\n",
       "      <td>Inna i nieokreślona komórka działalności medyc...</td>\n",
       "      <td>9000</td>\n",
       "      <td>1</td>\n",
       "      <td>5</td>\n",
       "      <td>5.0</td>\n",
       "    </tr>\n",
       "    <tr>\n",
       "      <th>51151</th>\n",
       "      <td>2023</td>\n",
       "      <td>wielkopolskie</td>\n",
       "      <td>m. Poznań</td>\n",
       "      <td>Poznań</td>\n",
       "      <td>Szpital ogólnopolski</td>\n",
       "      <td>Inne Komórki Organizacyjne Działalnosci Medycznej</td>\n",
       "      <td>Inna i nieokreślona komórka działalności medyc...</td>\n",
       "      <td>9000</td>\n",
       "      <td>1</td>\n",
       "      <td>0</td>\n",
       "      <td>0.0</td>\n",
       "    </tr>\n",
       "    <tr>\n",
       "      <th>51152</th>\n",
       "      <td>2023</td>\n",
       "      <td>zachodniopomorskie</td>\n",
       "      <td>m. Szczecin</td>\n",
       "      <td>Szczecin</td>\n",
       "      <td>Szpital ogólnopolski</td>\n",
       "      <td>Inne Komórki Organizacyjne Działalnosci Medycznej</td>\n",
       "      <td>Inna i nieokreślona komórka działalności medyc...</td>\n",
       "      <td>9000</td>\n",
       "      <td>1</td>\n",
       "      <td>10</td>\n",
       "      <td>5.0</td>\n",
       "    </tr>\n",
       "  </tbody>\n",
       "</table>\n",
       "<p>51053 rows × 11 columns</p>\n",
       "</div>"
      ]
     },
     "execution_count": 17,
     "metadata": {},
     "output_type": "execute_result"
    }
   ],
   "execution_count": 17
  }
 ],
 "metadata": {
  "kernelspec": {
   "display_name": "EDA",
   "language": "python",
   "name": "python3"
  },
  "language_info": {
   "codemirror_mode": {
    "name": "ipython",
    "version": 3
   },
   "file_extension": ".py",
   "mimetype": "text/x-python",
   "name": "python",
   "nbconvert_exporter": "python",
   "pygments_lexer": "ipython3",
   "version": "3.13.5"
  }
 },
 "nbformat": 4,
 "nbformat_minor": 5
}
