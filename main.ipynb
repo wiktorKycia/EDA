{
 "cells": [
  {
   "metadata": {},
   "cell_type": "markdown",
   "source": "1. Imports",
   "id": "ed732ed3f0637bd4"
  },
  {
   "metadata": {
    "collapsed": true
   },
   "cell_type": "code",
   "source": [
    "from time import struct_time\n",
    "\n",
    "import pandas as pd\n",
    "import numpy as np\n",
    "import seaborn as sns\n",
    "import matplotlib.pyplot as plt"
   ],
   "id": "6cf0b539bc7116c2",
   "outputs": [],
   "execution_count": null
  },
  {
   "metadata": {},
   "cell_type": "markdown",
   "source": "2. Loading data",
   "id": "f5ce35fb6cc6b208"
  },
  {
   "metadata": {},
   "cell_type": "code",
   "source": [
    "beds_df = pd.read_csv(\"data/Specjalnosci_lozka.csv\")\n",
    "beds_df.head()"
   ],
   "id": "eef02e56a5cb05a3",
   "outputs": [],
   "execution_count": null
  },
  {
   "metadata": {},
   "cell_type": "markdown",
   "source": "3. Data description",
   "id": "d6ad57c8dc5c391b"
  },
  {
   "metadata": {},
   "cell_type": "code",
   "source": [
    "print(beds_df.dtypes)\n",
    "beds_df.describe()"
   ],
   "id": "e7d6ee276b81da07",
   "outputs": [],
   "execution_count": null
  },
  {
   "metadata": {},
   "cell_type": "markdown",
   "source": "4. Removing null values",
   "id": "cdfbc4d9f0a2015"
  },
  {
   "metadata": {},
   "cell_type": "code",
   "source": [
    "missing_values = ['brak danych', 'brak', 'n/a', 'N/A', '']\n",
    "beds_df.replace(missing_values, pd.NA, inplace=True)"
   ],
   "id": "791380f96f2f1c54",
   "outputs": [],
   "execution_count": null
  },
  {
   "metadata": {},
   "cell_type": "code",
   "source": "print(beds_df.isna().sum())",
   "id": "37fc37515f1aa249",
   "outputs": [],
   "execution_count": null
  },
  {
   "metadata": {},
   "cell_type": "code",
   "source": "beds_df = beds_df.dropna()",
   "id": "247fabc73726337e",
   "outputs": [],
   "execution_count": null
  },
  {
   "metadata": {},
   "cell_type": "code",
   "source": [
    "def display_distinct_values(column: str) -> None:\n",
    "\tprint(list(set(list(beds_df[column]))))"
   ],
   "id": "171d3eb07a201780",
   "outputs": [],
   "execution_count": null
  },
  {
   "metadata": {},
   "cell_type": "markdown",
   "source": "5. Adjusting data types",
   "id": "dadb5ea138f9b5e7"
  },
  {
   "metadata": {},
   "cell_type": "code",
   "outputs": [],
   "execution_count": null,
   "source": "beds_df['Średnioroczna liczba łóżek'] = beds_df['Średnioroczna liczba łóżek'].astype(str).str.replace(',', '.')",
   "id": "547c99c5e061daa7"
  },
  {
   "metadata": {},
   "cell_type": "code",
   "outputs": [],
   "execution_count": null,
   "source": "beds_df = beds_df.astype({'Liczba oddziałów': 'int64', 'Liczba łóżek 31.12': 'int64', 'Średnioroczna liczba łóżek': 'float64'})",
   "id": "b6d6a13a7dfc89ad"
  },
  {
   "metadata": {},
   "cell_type": "code",
   "outputs": [],
   "execution_count": null,
   "source": "beds_df",
   "id": "52e3d2fcea4c7e5e"
  }
 ],
 "metadata": {
  "kernelspec": {
   "display_name": "Python 3",
   "language": "python",
   "name": "python3"
  },
  "language_info": {
   "codemirror_mode": {
    "name": "ipython",
    "version": 2
   },
   "file_extension": ".py",
   "mimetype": "text/x-python",
   "name": "python",
   "nbconvert_exporter": "python",
   "pygments_lexer": "ipython2",
   "version": "2.7.6"
  }
 },
 "nbformat": 4,
 "nbformat_minor": 5
}
