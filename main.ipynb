{
 "cells": [
  {
   "metadata": {},
   "cell_type": "markdown",
   "source": "1. Imports",
   "id": "ed732ed3f0637bd4"
  },
  {
   "metadata": {
    "collapsed": true,
    "ExecuteTime": {
     "end_time": "2025-08-13T13:58:19.927456Z",
     "start_time": "2025-08-13T13:58:19.917220Z"
    }
   },
   "cell_type": "code",
   "outputs": [],
   "execution_count": 1,
   "source": [
    "import pandas as pd\n",
    "import numpy as np\n",
    "import seaborn as sns\n",
    "import matplotlib.pyplot as plt"
   ],
   "id": "6cf0b539bc7116c2"
  },
  {
   "metadata": {},
   "cell_type": "markdown",
   "source": "2. Loading data",
   "id": "f5ce35fb6cc6b208"
  },
  {
   "metadata": {
    "ExecuteTime": {
     "end_time": "2025-08-13T14:01:55.895660Z",
     "start_time": "2025-08-13T14:01:55.735967Z"
    }
   },
   "cell_type": "code",
   "source": [
    "beds_df = pd.read_csv(\"data/Specjalnosci_lozka.csv\")\n",
    "beds_df.head()"
   ],
   "id": "eef02e56a5cb05a3",
   "outputs": [
    {
     "data": {
      "text/plain": [
       "    Rok   Województwo         Powiat         Gmina   Poziom sieci PSZ  \\\n",
       "0  2017  dolnośląskie  bolesławiecki  Nowogrodziec        Poza siecią   \n",
       "1  2017  dolnośląskie  bolesławiecki   Bolesławiec  Szpital I stopnia   \n",
       "2  2017  dolnośląskie  bolesławiecki   Bolesławiec  Szpital I stopnia   \n",
       "3  2017  dolnośląskie  bolesławiecki   Bolesławiec  Szpital I stopnia   \n",
       "4  2017  dolnośląskie  bolesławiecki   Bolesławiec  Szpital I stopnia   \n",
       "\n",
       "                                    Rodzaj Świadczeń  \\\n",
       "0            Ośrodki (Zespoły) Opieki Pozaszpitalnej   \n",
       "1  Oddziały Szpitalne i Inne Komórki Opieki Szpit...   \n",
       "2  Oddziały Szpitalne i Inne Komórki Opieki Szpit...   \n",
       "3  Oddziały Szpitalne i Inne Komórki Opieki Szpit...   \n",
       "4  Oddziały Szpitalne i Inne Komórki Opieki Szpit...   \n",
       "\n",
       "                          Nazwa Specjalności komórki Kod specjalności komórki  \\\n",
       "0  Hospicjum stacjonarne/stacjonarny ośrodek opie...                     2184   \n",
       "1                        Oddział chorób wewnętrznych                     4000   \n",
       "2                              Oddział neurologiczny                     4220   \n",
       "3       Oddział anestezjologii i intensywnej terapii                     4260   \n",
       "4                           Oddział chorób zakaźnych                     4340   \n",
       "\n",
       "  Liczba oddziałów  Liczba łóżek 31.12 Średnioroczna liczba łóżek  \n",
       "0                1                  15                         15  \n",
       "1                1                  31                         31  \n",
       "2                1                  12                         12  \n",
       "3                1                   7                          7  \n",
       "4                1                  11                         11  "
      ],
      "text/html": [
       "<div>\n",
       "<style scoped>\n",
       "    .dataframe tbody tr th:only-of-type {\n",
       "        vertical-align: middle;\n",
       "    }\n",
       "\n",
       "    .dataframe tbody tr th {\n",
       "        vertical-align: top;\n",
       "    }\n",
       "\n",
       "    .dataframe thead th {\n",
       "        text-align: right;\n",
       "    }\n",
       "</style>\n",
       "<table border=\"1\" class=\"dataframe\">\n",
       "  <thead>\n",
       "    <tr style=\"text-align: right;\">\n",
       "      <th></th>\n",
       "      <th>Rok</th>\n",
       "      <th>Województwo</th>\n",
       "      <th>Powiat</th>\n",
       "      <th>Gmina</th>\n",
       "      <th>Poziom sieci PSZ</th>\n",
       "      <th>Rodzaj Świadczeń</th>\n",
       "      <th>Nazwa Specjalności komórki</th>\n",
       "      <th>Kod specjalności komórki</th>\n",
       "      <th>Liczba oddziałów</th>\n",
       "      <th>Liczba łóżek 31.12</th>\n",
       "      <th>Średnioroczna liczba łóżek</th>\n",
       "    </tr>\n",
       "  </thead>\n",
       "  <tbody>\n",
       "    <tr>\n",
       "      <th>0</th>\n",
       "      <td>2017</td>\n",
       "      <td>dolnośląskie</td>\n",
       "      <td>bolesławiecki</td>\n",
       "      <td>Nowogrodziec</td>\n",
       "      <td>Poza siecią</td>\n",
       "      <td>Ośrodki (Zespoły) Opieki Pozaszpitalnej</td>\n",
       "      <td>Hospicjum stacjonarne/stacjonarny ośrodek opie...</td>\n",
       "      <td>2184</td>\n",
       "      <td>1</td>\n",
       "      <td>15</td>\n",
       "      <td>15</td>\n",
       "    </tr>\n",
       "    <tr>\n",
       "      <th>1</th>\n",
       "      <td>2017</td>\n",
       "      <td>dolnośląskie</td>\n",
       "      <td>bolesławiecki</td>\n",
       "      <td>Bolesławiec</td>\n",
       "      <td>Szpital I stopnia</td>\n",
       "      <td>Oddziały Szpitalne i Inne Komórki Opieki Szpit...</td>\n",
       "      <td>Oddział chorób wewnętrznych</td>\n",
       "      <td>4000</td>\n",
       "      <td>1</td>\n",
       "      <td>31</td>\n",
       "      <td>31</td>\n",
       "    </tr>\n",
       "    <tr>\n",
       "      <th>2</th>\n",
       "      <td>2017</td>\n",
       "      <td>dolnośląskie</td>\n",
       "      <td>bolesławiecki</td>\n",
       "      <td>Bolesławiec</td>\n",
       "      <td>Szpital I stopnia</td>\n",
       "      <td>Oddziały Szpitalne i Inne Komórki Opieki Szpit...</td>\n",
       "      <td>Oddział neurologiczny</td>\n",
       "      <td>4220</td>\n",
       "      <td>1</td>\n",
       "      <td>12</td>\n",
       "      <td>12</td>\n",
       "    </tr>\n",
       "    <tr>\n",
       "      <th>3</th>\n",
       "      <td>2017</td>\n",
       "      <td>dolnośląskie</td>\n",
       "      <td>bolesławiecki</td>\n",
       "      <td>Bolesławiec</td>\n",
       "      <td>Szpital I stopnia</td>\n",
       "      <td>Oddziały Szpitalne i Inne Komórki Opieki Szpit...</td>\n",
       "      <td>Oddział anestezjologii i intensywnej terapii</td>\n",
       "      <td>4260</td>\n",
       "      <td>1</td>\n",
       "      <td>7</td>\n",
       "      <td>7</td>\n",
       "    </tr>\n",
       "    <tr>\n",
       "      <th>4</th>\n",
       "      <td>2017</td>\n",
       "      <td>dolnośląskie</td>\n",
       "      <td>bolesławiecki</td>\n",
       "      <td>Bolesławiec</td>\n",
       "      <td>Szpital I stopnia</td>\n",
       "      <td>Oddziały Szpitalne i Inne Komórki Opieki Szpit...</td>\n",
       "      <td>Oddział chorób zakaźnych</td>\n",
       "      <td>4340</td>\n",
       "      <td>1</td>\n",
       "      <td>11</td>\n",
       "      <td>11</td>\n",
       "    </tr>\n",
       "  </tbody>\n",
       "</table>\n",
       "</div>"
      ]
     },
     "execution_count": 2,
     "metadata": {},
     "output_type": "execute_result"
    }
   ],
   "execution_count": 2
  },
  {
   "metadata": {},
   "cell_type": "markdown",
   "source": "3. Data description",
   "id": "d6ad57c8dc5c391b"
  },
  {
   "metadata": {
    "ExecuteTime": {
     "end_time": "2025-08-13T14:05:06.218959Z",
     "start_time": "2025-08-13T14:05:06.203684Z"
    }
   },
   "cell_type": "code",
   "source": [
    "print(beds_df.dtypes)\n",
    "beds_df.describe()"
   ],
   "id": "e7d6ee276b81da07",
   "outputs": [
    {
     "name": "stdout",
     "output_type": "stream",
     "text": [
      "Rok                            int64\n",
      "Województwo                   object\n",
      "Powiat                        object\n",
      "Gmina                         object\n",
      "Poziom sieci PSZ              object\n",
      "Rodzaj Świadczeń              object\n",
      "Nazwa Specjalności komórki    object\n",
      "Kod specjalności komórki      object\n",
      "Liczba oddziałów              object\n",
      "Liczba łóżek 31.12             int64\n",
      "Średnioroczna liczba łóżek    object\n",
      "dtype: object\n"
     ]
    },
    {
     "data": {
      "text/plain": [
       "                Rok  Liczba łóżek 31.12\n",
       "count  51153.000000        51153.000000\n",
       "mean    2019.996931           38.363244\n",
       "std        2.000657          110.572200\n",
       "min     2017.000000            0.000000\n",
       "25%     2018.000000           14.000000\n",
       "50%     2020.000000           24.000000\n",
       "75%     2022.000000           39.000000\n",
       "max     2023.000000         5618.000000"
      ],
      "text/html": [
       "<div>\n",
       "<style scoped>\n",
       "    .dataframe tbody tr th:only-of-type {\n",
       "        vertical-align: middle;\n",
       "    }\n",
       "\n",
       "    .dataframe tbody tr th {\n",
       "        vertical-align: top;\n",
       "    }\n",
       "\n",
       "    .dataframe thead th {\n",
       "        text-align: right;\n",
       "    }\n",
       "</style>\n",
       "<table border=\"1\" class=\"dataframe\">\n",
       "  <thead>\n",
       "    <tr style=\"text-align: right;\">\n",
       "      <th></th>\n",
       "      <th>Rok</th>\n",
       "      <th>Liczba łóżek 31.12</th>\n",
       "    </tr>\n",
       "  </thead>\n",
       "  <tbody>\n",
       "    <tr>\n",
       "      <th>count</th>\n",
       "      <td>51153.000000</td>\n",
       "      <td>51153.000000</td>\n",
       "    </tr>\n",
       "    <tr>\n",
       "      <th>mean</th>\n",
       "      <td>2019.996931</td>\n",
       "      <td>38.363244</td>\n",
       "    </tr>\n",
       "    <tr>\n",
       "      <th>std</th>\n",
       "      <td>2.000657</td>\n",
       "      <td>110.572200</td>\n",
       "    </tr>\n",
       "    <tr>\n",
       "      <th>min</th>\n",
       "      <td>2017.000000</td>\n",
       "      <td>0.000000</td>\n",
       "    </tr>\n",
       "    <tr>\n",
       "      <th>25%</th>\n",
       "      <td>2018.000000</td>\n",
       "      <td>14.000000</td>\n",
       "    </tr>\n",
       "    <tr>\n",
       "      <th>50%</th>\n",
       "      <td>2020.000000</td>\n",
       "      <td>24.000000</td>\n",
       "    </tr>\n",
       "    <tr>\n",
       "      <th>75%</th>\n",
       "      <td>2022.000000</td>\n",
       "      <td>39.000000</td>\n",
       "    </tr>\n",
       "    <tr>\n",
       "      <th>max</th>\n",
       "      <td>2023.000000</td>\n",
       "      <td>5618.000000</td>\n",
       "    </tr>\n",
       "  </tbody>\n",
       "</table>\n",
       "</div>"
      ]
     },
     "execution_count": 6,
     "metadata": {},
     "output_type": "execute_result"
    }
   ],
   "execution_count": 6
  },
  {
   "metadata": {},
   "cell_type": "markdown",
   "source": [
    "4. Type conversion\n",
    "\n",
    "since we have some columns with numeric values as strings, I will convert them to the numeric data types\n",
    "\n",
    "plan:\n",
    "- take only the object columns\n",
    "- for each column: check if every value is numeric\n",
    "- if so, then change the data type to int of float"
   ],
   "id": "cdfbc4d9f0a2015"
  },
  {
   "metadata": {
    "ExecuteTime": {
     "end_time": "2025-08-13T14:18:31.864368Z",
     "start_time": "2025-08-13T14:18:31.826791Z"
    }
   },
   "cell_type": "code",
   "source": [
    "strings_df = beds_df[[beds_df[column].dtype == 'object' for column in beds_df.columns]]\n",
    "strings_df"
   ],
   "id": "41d400673ad6898b",
   "outputs": [
    {
     "ename": "ValueError",
     "evalue": "Item wrong length 11 instead of 51153.",
     "output_type": "error",
     "traceback": [
      "\u001B[31m---------------------------------------------------------------------------\u001B[39m",
      "\u001B[31mValueError\u001B[39m                                Traceback (most recent call last)",
      "\u001B[32m/tmp/ipykernel_8059/3449704997.py\u001B[39m in \u001B[36m?\u001B[39m\u001B[34m()\u001B[39m\n\u001B[32m----> \u001B[39m\u001B[32m1\u001B[39m strings_df = beds_df[[beds_df[column].dtype == \u001B[33m'object'\u001B[39m \u001B[38;5;28;01mfor\u001B[39;00m column \u001B[38;5;28;01min\u001B[39;00m beds_df.columns]]\n\u001B[32m      2\u001B[39m strings_df\n",
      "\u001B[32m~/datarabbit/EDA/.venv/lib/python3.13/site-packages/pandas/core/frame.py\u001B[39m in \u001B[36m?\u001B[39m\u001B[34m(self, key)\u001B[39m\n\u001B[32m   4094\u001B[39m             \u001B[38;5;28;01mreturn\u001B[39;00m self.where(key)\n\u001B[32m   4095\u001B[39m \n\u001B[32m   4096\u001B[39m         \u001B[38;5;66;03m# Do we have a (boolean) 1d indexer?\u001B[39;00m\n\u001B[32m   4097\u001B[39m         \u001B[38;5;28;01mif\u001B[39;00m com.is_bool_indexer(key):\n\u001B[32m-> \u001B[39m\u001B[32m4098\u001B[39m             \u001B[38;5;28;01mreturn\u001B[39;00m self._getitem_bool_array(key)\n\u001B[32m   4099\u001B[39m \n\u001B[32m   4100\u001B[39m         \u001B[38;5;66;03m# We are left with two options: a single key, and a collection of keys,\u001B[39;00m\n\u001B[32m   4101\u001B[39m         \u001B[38;5;66;03m# We interpret tuples as collections only for non-MultiIndex\u001B[39;00m\n",
      "\u001B[32m~/datarabbit/EDA/.venv/lib/python3.13/site-packages/pandas/core/frame.py\u001B[39m in \u001B[36m?\u001B[39m\u001B[34m(self, key)\u001B[39m\n\u001B[32m   4144\u001B[39m                 UserWarning,\n\u001B[32m   4145\u001B[39m                 stacklevel=find_stack_level(),\n\u001B[32m   4146\u001B[39m             )\n\u001B[32m   4147\u001B[39m         \u001B[38;5;28;01melif\u001B[39;00m len(key) != len(self.index):\n\u001B[32m-> \u001B[39m\u001B[32m4148\u001B[39m             raise ValueError(\n\u001B[32m   4149\u001B[39m                 f\"Item wrong length {len(key)} instead of {len(self.index)}.\"\n\u001B[32m   4150\u001B[39m             )\n\u001B[32m   4151\u001B[39m \n",
      "\u001B[31mValueError\u001B[39m: Item wrong length 11 instead of 51153."
     ]
    }
   ],
   "execution_count": 9
  }
 ],
 "metadata": {
  "kernelspec": {
   "display_name": "Python 3",
   "language": "python",
   "name": "python3"
  },
  "language_info": {
   "codemirror_mode": {
    "name": "ipython",
    "version": 2
   },
   "file_extension": ".py",
   "mimetype": "text/x-python",
   "name": "python",
   "nbconvert_exporter": "python",
   "pygments_lexer": "ipython2",
   "version": "2.7.6"
  }
 },
 "nbformat": 4,
 "nbformat_minor": 5
}
