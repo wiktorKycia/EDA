{
 "cells": [
  {
   "cell_type": "markdown",
   "id": "ed732ed3f0637bd4",
   "metadata": {},
   "source": "0. Imports and reading data"
  },
  {
   "cell_type": "code",
   "id": "6cf0b539bc7116c2",
   "metadata": {
    "collapsed": true,
    "ExecuteTime": {
     "end_time": "2025-08-28T12:30:24.244268Z",
     "start_time": "2025-08-28T12:30:24.162684Z"
    }
   },
   "source": [
    "import pandas as pd\n",
    "import numpy as np\n",
    "import seaborn as sns\n",
    "import matplotlib.pylab as plt\n",
    "plt.style.use('ggplot')\n",
    "pd.set_option('display.max_columns', 200) # in order to always display every column"
   ],
   "outputs": [],
   "execution_count": 1
  },
  {
   "metadata": {
    "ExecuteTime": {
     "end_time": "2025-08-28T12:30:25.805199Z",
     "start_time": "2025-08-28T12:30:25.396615Z"
    }
   },
   "cell_type": "code",
   "source": "df = pd.read_csv(\"data/Specjalnosci_lozka.csv\")",
   "id": "35b9f20f6cde1c05",
   "outputs": [],
   "execution_count": 2
  },
  {
   "metadata": {},
   "cell_type": "markdown",
   "source": [
    "1. Data understanding\n",
    "\n",
    "- Dataframe `shape`\n",
    "- `head` and `tail`\n",
    "- `columns`\n",
    "- `dtypes`\n",
    "- `describe`"
   ],
   "id": "c73341ce18168f2"
  },
  {
   "metadata": {
    "ExecuteTime": {
     "end_time": "2025-08-28T12:30:27.017014Z",
     "start_time": "2025-08-28T12:30:26.993844Z"
    }
   },
   "cell_type": "code",
   "source": "df.shape",
   "id": "df5a6990792d4b48",
   "outputs": [
    {
     "data": {
      "text/plain": [
       "(51153, 11)"
      ]
     },
     "execution_count": 3,
     "metadata": {},
     "output_type": "execute_result"
    }
   ],
   "execution_count": 3
  },
  {
   "metadata": {
    "ExecuteTime": {
     "end_time": "2025-08-28T12:30:28.356225Z",
     "start_time": "2025-08-28T12:30:28.325123Z"
    }
   },
   "cell_type": "code",
   "source": "df.head",
   "id": "1ae70312de15200f",
   "outputs": [
    {
     "data": {
      "text/plain": [
       "<bound method NDFrame.head of         Rok         Województwo         Powiat         Gmina  \\\n",
       "0      2017        dolnośląskie  bolesławiecki  Nowogrodziec   \n",
       "1      2017        dolnośląskie  bolesławiecki   Bolesławiec   \n",
       "2      2017        dolnośląskie  bolesławiecki   Bolesławiec   \n",
       "3      2017        dolnośląskie  bolesławiecki   Bolesławiec   \n",
       "4      2017        dolnośląskie  bolesławiecki   Bolesławiec   \n",
       "...     ...                 ...            ...           ...   \n",
       "51148  2023            opolskie       m. Opole         Opole   \n",
       "51149  2023             śląskie    m. Katowice      Katowice   \n",
       "51150  2023       wielkopolskie      m. Poznań        Poznań   \n",
       "51151  2023       wielkopolskie      m. Poznań        Poznań   \n",
       "51152  2023  zachodniopomorskie    m. Szczecin      Szczecin   \n",
       "\n",
       "           Poziom sieci PSZ  \\\n",
       "0               Poza siecią   \n",
       "1         Szpital I stopnia   \n",
       "2         Szpital I stopnia   \n",
       "3         Szpital I stopnia   \n",
       "4         Szpital I stopnia   \n",
       "...                     ...   \n",
       "51148           Poza siecią   \n",
       "51149  Szpital onkologiczny   \n",
       "51150  Szpital onkologiczny   \n",
       "51151  Szpital ogólnopolski   \n",
       "51152  Szpital ogólnopolski   \n",
       "\n",
       "                                        Rodzaj Świadczeń  \\\n",
       "0                Ośrodki (Zespoły) Opieki Pozaszpitalnej   \n",
       "1      Oddziały Szpitalne i Inne Komórki Opieki Szpit...   \n",
       "2      Oddziały Szpitalne i Inne Komórki Opieki Szpit...   \n",
       "3      Oddziały Szpitalne i Inne Komórki Opieki Szpit...   \n",
       "4      Oddziały Szpitalne i Inne Komórki Opieki Szpit...   \n",
       "...                                                  ...   \n",
       "51148  Inne Komórki Organizacyjne Działalnosci Medycznej   \n",
       "51149  Inne Komórki Organizacyjne Działalnosci Medycznej   \n",
       "51150  Inne Komórki Organizacyjne Działalnosci Medycznej   \n",
       "51151  Inne Komórki Organizacyjne Działalnosci Medycznej   \n",
       "51152  Inne Komórki Organizacyjne Działalnosci Medycznej   \n",
       "\n",
       "                              Nazwa Specjalności komórki  \\\n",
       "0      Hospicjum stacjonarne/stacjonarny ośrodek opie...   \n",
       "1                            Oddział chorób wewnętrznych   \n",
       "2                                  Oddział neurologiczny   \n",
       "3           Oddział anestezjologii i intensywnej terapii   \n",
       "4                               Oddział chorób zakaźnych   \n",
       "...                                                  ...   \n",
       "51148  Inna i nieokreślona komórka działalności medyc...   \n",
       "51149  Inna i nieokreślona komórka działalności medyc...   \n",
       "51150  Inna i nieokreślona komórka działalności medyc...   \n",
       "51151  Inna i nieokreślona komórka działalności medyc...   \n",
       "51152  Inna i nieokreślona komórka działalności medyc...   \n",
       "\n",
       "      Kod specjalności komórki Liczba oddziałów  Liczba łóżek 31.12  \\\n",
       "0                         2184                1                  15   \n",
       "1                         4000                1                  31   \n",
       "2                         4220                1                  12   \n",
       "3                         4260                1                   7   \n",
       "4                         4340                1                  11   \n",
       "...                        ...              ...                 ...   \n",
       "51148                     9000                1                  26   \n",
       "51149                     9000                1                   5   \n",
       "51150                     9000                1                   5   \n",
       "51151                     9000                1                   0   \n",
       "51152                     9000                1                  10   \n",
       "\n",
       "      Średnioroczna liczba łóżek  \n",
       "0                             15  \n",
       "1                             31  \n",
       "2                             12  \n",
       "3                              7  \n",
       "4                             11  \n",
       "...                          ...  \n",
       "51148                         26  \n",
       "51149                          5  \n",
       "51150                          5  \n",
       "51151                          0  \n",
       "51152                          5  \n",
       "\n",
       "[51153 rows x 11 columns]>"
      ]
     },
     "execution_count": 4,
     "metadata": {},
     "output_type": "execute_result"
    }
   ],
   "execution_count": 4
  },
  {
   "metadata": {
    "ExecuteTime": {
     "end_time": "2025-08-28T12:30:30.315789Z",
     "start_time": "2025-08-28T12:30:30.301924Z"
    }
   },
   "cell_type": "code",
   "source": "df.columns",
   "id": "df7b20a25d586901",
   "outputs": [
    {
     "data": {
      "text/plain": [
       "Index(['Rok', 'Województwo', 'Powiat', 'Gmina', 'Poziom sieci PSZ',\n",
       "       'Rodzaj Świadczeń', 'Nazwa Specjalności komórki',\n",
       "       'Kod specjalności komórki', 'Liczba oddziałów', 'Liczba łóżek 31.12',\n",
       "       'Średnioroczna liczba łóżek'],\n",
       "      dtype='object')"
      ]
     },
     "execution_count": 5,
     "metadata": {},
     "output_type": "execute_result"
    }
   ],
   "execution_count": 5
  },
  {
   "metadata": {
    "ExecuteTime": {
     "end_time": "2025-08-28T12:30:31.893415Z",
     "start_time": "2025-08-28T12:30:31.876326Z"
    }
   },
   "cell_type": "code",
   "source": "df.dtypes",
   "id": "9e8c19a568ec8e3",
   "outputs": [
    {
     "data": {
      "text/plain": [
       "Rok                            int64\n",
       "Województwo                   object\n",
       "Powiat                        object\n",
       "Gmina                         object\n",
       "Poziom sieci PSZ              object\n",
       "Rodzaj Świadczeń              object\n",
       "Nazwa Specjalności komórki    object\n",
       "Kod specjalności komórki      object\n",
       "Liczba oddziałów              object\n",
       "Liczba łóżek 31.12             int64\n",
       "Średnioroczna liczba łóżek    object\n",
       "dtype: object"
      ]
     },
     "execution_count": 6,
     "metadata": {},
     "output_type": "execute_result"
    }
   ],
   "execution_count": 6
  },
  {
   "metadata": {
    "ExecuteTime": {
     "end_time": "2025-08-28T12:30:34.206455Z",
     "start_time": "2025-08-28T12:30:34.153740Z"
    }
   },
   "cell_type": "code",
   "source": "df.describe()",
   "id": "382a216e23d471ba",
   "outputs": [
    {
     "data": {
      "text/plain": [
       "                Rok  Liczba łóżek 31.12\n",
       "count  51153.000000        51153.000000\n",
       "mean    2019.996931           38.363244\n",
       "std        2.000657          110.572200\n",
       "min     2017.000000            0.000000\n",
       "25%     2018.000000           14.000000\n",
       "50%     2020.000000           24.000000\n",
       "75%     2022.000000           39.000000\n",
       "max     2023.000000         5618.000000"
      ],
      "text/html": [
       "<div>\n",
       "<style scoped>\n",
       "    .dataframe tbody tr th:only-of-type {\n",
       "        vertical-align: middle;\n",
       "    }\n",
       "\n",
       "    .dataframe tbody tr th {\n",
       "        vertical-align: top;\n",
       "    }\n",
       "\n",
       "    .dataframe thead th {\n",
       "        text-align: right;\n",
       "    }\n",
       "</style>\n",
       "<table border=\"1\" class=\"dataframe\">\n",
       "  <thead>\n",
       "    <tr style=\"text-align: right;\">\n",
       "      <th></th>\n",
       "      <th>Rok</th>\n",
       "      <th>Liczba łóżek 31.12</th>\n",
       "    </tr>\n",
       "  </thead>\n",
       "  <tbody>\n",
       "    <tr>\n",
       "      <th>count</th>\n",
       "      <td>51153.000000</td>\n",
       "      <td>51153.000000</td>\n",
       "    </tr>\n",
       "    <tr>\n",
       "      <th>mean</th>\n",
       "      <td>2019.996931</td>\n",
       "      <td>38.363244</td>\n",
       "    </tr>\n",
       "    <tr>\n",
       "      <th>std</th>\n",
       "      <td>2.000657</td>\n",
       "      <td>110.572200</td>\n",
       "    </tr>\n",
       "    <tr>\n",
       "      <th>min</th>\n",
       "      <td>2017.000000</td>\n",
       "      <td>0.000000</td>\n",
       "    </tr>\n",
       "    <tr>\n",
       "      <th>25%</th>\n",
       "      <td>2018.000000</td>\n",
       "      <td>14.000000</td>\n",
       "    </tr>\n",
       "    <tr>\n",
       "      <th>50%</th>\n",
       "      <td>2020.000000</td>\n",
       "      <td>24.000000</td>\n",
       "    </tr>\n",
       "    <tr>\n",
       "      <th>75%</th>\n",
       "      <td>2022.000000</td>\n",
       "      <td>39.000000</td>\n",
       "    </tr>\n",
       "    <tr>\n",
       "      <th>max</th>\n",
       "      <td>2023.000000</td>\n",
       "      <td>5618.000000</td>\n",
       "    </tr>\n",
       "  </tbody>\n",
       "</table>\n",
       "</div>"
      ]
     },
     "execution_count": 7,
     "metadata": {},
     "output_type": "execute_result"
    }
   ],
   "execution_count": 7
  },
  {
   "metadata": {},
   "cell_type": "markdown",
   "source": [
    "2. Data preparation\n",
    "\n",
    "- dropping irrelevant columns and rows\n",
    "- identifying duplicated columns\n",
    "- renaming columns\n",
    "- feature creation"
   ],
   "id": "7b4ba8cdd5890ca3"
  },
  {
   "metadata": {
    "ExecuteTime": {
     "end_time": "2025-08-28T12:30:36.854288Z",
     "start_time": "2025-08-28T12:30:36.817058Z"
    }
   },
   "cell_type": "code",
   "source": "df.head()",
   "id": "105c5b3ce376c30d",
   "outputs": [
    {
     "data": {
      "text/plain": [
       "    Rok   Województwo         Powiat         Gmina   Poziom sieci PSZ  \\\n",
       "0  2017  dolnośląskie  bolesławiecki  Nowogrodziec        Poza siecią   \n",
       "1  2017  dolnośląskie  bolesławiecki   Bolesławiec  Szpital I stopnia   \n",
       "2  2017  dolnośląskie  bolesławiecki   Bolesławiec  Szpital I stopnia   \n",
       "3  2017  dolnośląskie  bolesławiecki   Bolesławiec  Szpital I stopnia   \n",
       "4  2017  dolnośląskie  bolesławiecki   Bolesławiec  Szpital I stopnia   \n",
       "\n",
       "                                    Rodzaj Świadczeń  \\\n",
       "0            Ośrodki (Zespoły) Opieki Pozaszpitalnej   \n",
       "1  Oddziały Szpitalne i Inne Komórki Opieki Szpit...   \n",
       "2  Oddziały Szpitalne i Inne Komórki Opieki Szpit...   \n",
       "3  Oddziały Szpitalne i Inne Komórki Opieki Szpit...   \n",
       "4  Oddziały Szpitalne i Inne Komórki Opieki Szpit...   \n",
       "\n",
       "                          Nazwa Specjalności komórki Kod specjalności komórki  \\\n",
       "0  Hospicjum stacjonarne/stacjonarny ośrodek opie...                     2184   \n",
       "1                        Oddział chorób wewnętrznych                     4000   \n",
       "2                              Oddział neurologiczny                     4220   \n",
       "3       Oddział anestezjologii i intensywnej terapii                     4260   \n",
       "4                           Oddział chorób zakaźnych                     4340   \n",
       "\n",
       "  Liczba oddziałów  Liczba łóżek 31.12 Średnioroczna liczba łóżek  \n",
       "0                1                  15                         15  \n",
       "1                1                  31                         31  \n",
       "2                1                  12                         12  \n",
       "3                1                   7                          7  \n",
       "4                1                  11                         11  "
      ],
      "text/html": [
       "<div>\n",
       "<style scoped>\n",
       "    .dataframe tbody tr th:only-of-type {\n",
       "        vertical-align: middle;\n",
       "    }\n",
       "\n",
       "    .dataframe tbody tr th {\n",
       "        vertical-align: top;\n",
       "    }\n",
       "\n",
       "    .dataframe thead th {\n",
       "        text-align: right;\n",
       "    }\n",
       "</style>\n",
       "<table border=\"1\" class=\"dataframe\">\n",
       "  <thead>\n",
       "    <tr style=\"text-align: right;\">\n",
       "      <th></th>\n",
       "      <th>Rok</th>\n",
       "      <th>Województwo</th>\n",
       "      <th>Powiat</th>\n",
       "      <th>Gmina</th>\n",
       "      <th>Poziom sieci PSZ</th>\n",
       "      <th>Rodzaj Świadczeń</th>\n",
       "      <th>Nazwa Specjalności komórki</th>\n",
       "      <th>Kod specjalności komórki</th>\n",
       "      <th>Liczba oddziałów</th>\n",
       "      <th>Liczba łóżek 31.12</th>\n",
       "      <th>Średnioroczna liczba łóżek</th>\n",
       "    </tr>\n",
       "  </thead>\n",
       "  <tbody>\n",
       "    <tr>\n",
       "      <th>0</th>\n",
       "      <td>2017</td>\n",
       "      <td>dolnośląskie</td>\n",
       "      <td>bolesławiecki</td>\n",
       "      <td>Nowogrodziec</td>\n",
       "      <td>Poza siecią</td>\n",
       "      <td>Ośrodki (Zespoły) Opieki Pozaszpitalnej</td>\n",
       "      <td>Hospicjum stacjonarne/stacjonarny ośrodek opie...</td>\n",
       "      <td>2184</td>\n",
       "      <td>1</td>\n",
       "      <td>15</td>\n",
       "      <td>15</td>\n",
       "    </tr>\n",
       "    <tr>\n",
       "      <th>1</th>\n",
       "      <td>2017</td>\n",
       "      <td>dolnośląskie</td>\n",
       "      <td>bolesławiecki</td>\n",
       "      <td>Bolesławiec</td>\n",
       "      <td>Szpital I stopnia</td>\n",
       "      <td>Oddziały Szpitalne i Inne Komórki Opieki Szpit...</td>\n",
       "      <td>Oddział chorób wewnętrznych</td>\n",
       "      <td>4000</td>\n",
       "      <td>1</td>\n",
       "      <td>31</td>\n",
       "      <td>31</td>\n",
       "    </tr>\n",
       "    <tr>\n",
       "      <th>2</th>\n",
       "      <td>2017</td>\n",
       "      <td>dolnośląskie</td>\n",
       "      <td>bolesławiecki</td>\n",
       "      <td>Bolesławiec</td>\n",
       "      <td>Szpital I stopnia</td>\n",
       "      <td>Oddziały Szpitalne i Inne Komórki Opieki Szpit...</td>\n",
       "      <td>Oddział neurologiczny</td>\n",
       "      <td>4220</td>\n",
       "      <td>1</td>\n",
       "      <td>12</td>\n",
       "      <td>12</td>\n",
       "    </tr>\n",
       "    <tr>\n",
       "      <th>3</th>\n",
       "      <td>2017</td>\n",
       "      <td>dolnośląskie</td>\n",
       "      <td>bolesławiecki</td>\n",
       "      <td>Bolesławiec</td>\n",
       "      <td>Szpital I stopnia</td>\n",
       "      <td>Oddziały Szpitalne i Inne Komórki Opieki Szpit...</td>\n",
       "      <td>Oddział anestezjologii i intensywnej terapii</td>\n",
       "      <td>4260</td>\n",
       "      <td>1</td>\n",
       "      <td>7</td>\n",
       "      <td>7</td>\n",
       "    </tr>\n",
       "    <tr>\n",
       "      <th>4</th>\n",
       "      <td>2017</td>\n",
       "      <td>dolnośląskie</td>\n",
       "      <td>bolesławiecki</td>\n",
       "      <td>Bolesławiec</td>\n",
       "      <td>Szpital I stopnia</td>\n",
       "      <td>Oddziały Szpitalne i Inne Komórki Opieki Szpit...</td>\n",
       "      <td>Oddział chorób zakaźnych</td>\n",
       "      <td>4340</td>\n",
       "      <td>1</td>\n",
       "      <td>11</td>\n",
       "      <td>11</td>\n",
       "    </tr>\n",
       "  </tbody>\n",
       "</table>\n",
       "</div>"
      ]
     },
     "execution_count": 8,
     "metadata": {},
     "output_type": "execute_result"
    }
   ],
   "execution_count": 8
  },
  {
   "metadata": {
    "ExecuteTime": {
     "end_time": "2025-08-28T12:30:39.108520Z",
     "start_time": "2025-08-28T12:30:39.077194Z"
    }
   },
   "cell_type": "code",
   "source": "df = df.drop(columns=['Kod specjalności komórki']) # dropping redundant column",
   "id": "874e05927ab27bf8",
   "outputs": [],
   "execution_count": 9
  },
  {
   "metadata": {
    "ExecuteTime": {
     "end_time": "2025-08-28T12:30:40.844823Z",
     "start_time": "2025-08-28T12:30:40.832921Z"
    }
   },
   "cell_type": "code",
   "source": "df.shape # checking if it is actually removed now",
   "id": "e565701dfb38e119",
   "outputs": [
    {
     "data": {
      "text/plain": [
       "(51153, 10)"
      ]
     },
     "execution_count": 10,
     "metadata": {},
     "output_type": "execute_result"
    }
   ],
   "execution_count": 10
  },
  {
   "metadata": {},
   "cell_type": "markdown",
   "source": "correcting data types",
   "id": "673ae15258aca67b"
  },
  {
   "metadata": {
    "ExecuteTime": {
     "end_time": "2025-08-28T12:30:43.045396Z",
     "start_time": "2025-08-28T12:30:43.029321Z"
    }
   },
   "cell_type": "code",
   "source": "df.dtypes",
   "id": "8e7a659677017bfc",
   "outputs": [
    {
     "data": {
      "text/plain": [
       "Rok                            int64\n",
       "Województwo                   object\n",
       "Powiat                        object\n",
       "Gmina                         object\n",
       "Poziom sieci PSZ              object\n",
       "Rodzaj Świadczeń              object\n",
       "Nazwa Specjalności komórki    object\n",
       "Liczba oddziałów              object\n",
       "Liczba łóżek 31.12             int64\n",
       "Średnioroczna liczba łóżek    object\n",
       "dtype: object"
      ]
     },
     "execution_count": 11,
     "metadata": {},
     "output_type": "execute_result"
    }
   ],
   "execution_count": 11
  },
  {
   "metadata": {},
   "cell_type": "markdown",
   "source": "but first, replace missing values with actual nulls",
   "id": "6c1fdf115c2c6792"
  },
  {
   "cell_type": "code",
   "id": "791380f96f2f1c54",
   "metadata": {
    "ExecuteTime": {
     "end_time": "2025-08-28T12:30:46.019169Z",
     "start_time": "2025-08-28T12:30:45.891764Z"
    }
   },
   "source": [
    "missing_values = ['brak danych', 'brak', 'n/a', 'N/A', '']\n",
    "df.replace(missing_values, pd.NA, inplace=True)"
   ],
   "outputs": [],
   "execution_count": 12
  },
  {
   "metadata": {
    "ExecuteTime": {
     "end_time": "2025-08-28T12:33:50.330300Z",
     "start_time": "2025-08-28T12:33:50.245933Z"
    }
   },
   "cell_type": "code",
   "source": "print(df.isna().sum()) # counting null values",
   "id": "e3358b5e0722fa38",
   "outputs": [
    {
     "name": "stdout",
     "output_type": "stream",
     "text": [
      "Rok                             0\n",
      "Województwo                     0\n",
      "Powiat                          0\n",
      "Gmina                           0\n",
      "Poziom sieci PSZ                0\n",
      "Rodzaj Świadczeń                0\n",
      "Nazwa Specjalności komórki      0\n",
      "Liczba oddziałów              100\n",
      "Liczba łóżek 31.12              0\n",
      "Średnioroczna liczba łóżek      0\n",
      "dtype: int64\n"
     ]
    }
   ],
   "execution_count": 15
  },
  {
   "metadata": {
    "ExecuteTime": {
     "end_time": "2025-08-28T12:33:52.529056Z",
     "start_time": "2025-08-28T12:33:52.427372Z"
    }
   },
   "cell_type": "code",
   "source": "df = df.dropna() # dropping null values",
   "id": "39039d839fe35ee2",
   "outputs": [],
   "execution_count": 16
  },
  {
   "metadata": {
    "ExecuteTime": {
     "end_time": "2025-08-28T12:34:16.776384Z",
     "start_time": "2025-08-28T12:34:16.764712Z"
    }
   },
   "cell_type": "code",
   "source": "df['Liczba oddziałów'] = df['Liczba oddziałów'].astype(int)",
   "id": "c6d37f309fc3b66",
   "outputs": [],
   "execution_count": 18
  },
  {
   "metadata": {
    "ExecuteTime": {
     "end_time": "2025-08-28T12:34:18.951670Z",
     "start_time": "2025-08-28T12:34:18.855737Z"
    }
   },
   "cell_type": "code",
   "source": "df['Średnioroczna liczba łóżek'] = df['Średnioroczna liczba łóżek'].astype(str).str.replace(',', '.').astype(float)",
   "id": "c14b7ddd36022f9",
   "outputs": [],
   "execution_count": 19
  },
  {
   "metadata": {
    "ExecuteTime": {
     "end_time": "2025-08-28T12:34:20.100554Z",
     "start_time": "2025-08-28T12:34:20.079929Z"
    }
   },
   "cell_type": "code",
   "source": "df.dtypes",
   "id": "1e4736d7680f4953",
   "outputs": [
    {
     "data": {
      "text/plain": [
       "Rok                             int64\n",
       "Województwo                    object\n",
       "Powiat                         object\n",
       "Gmina                          object\n",
       "Poziom sieci PSZ               object\n",
       "Rodzaj Świadczeń               object\n",
       "Nazwa Specjalności komórki     object\n",
       "Liczba oddziałów                int64\n",
       "Liczba łóżek 31.12              int64\n",
       "Średnioroczna liczba łóżek    float64\n",
       "dtype: object"
      ]
     },
     "execution_count": 20,
     "metadata": {},
     "output_type": "execute_result"
    }
   ],
   "execution_count": 20
  },
  {
   "metadata": {},
   "cell_type": "markdown",
   "source": "2. Loading data",
   "id": "1e21111f3d49f584"
  },
  {
   "metadata": {},
   "cell_type": "code",
   "outputs": [],
   "execution_count": null,
   "source": [
    "beds_df = pd.read_csv(\"data/Specjalnosci_lozka.csv\")\n",
    "beds_df.head()"
   ],
   "id": "8b825c1c51c49e7d"
  },
  {
   "metadata": {},
   "cell_type": "markdown",
   "source": "3. Data description",
   "id": "28aec26f0f7a93e5"
  },
  {
   "metadata": {},
   "cell_type": "code",
   "outputs": [],
   "execution_count": null,
   "source": [
    "print(beds_df.dtypes)\n",
    "beds_df.describe()"
   ],
   "id": "aa0d2c9bed00ea1b"
  },
  {
   "metadata": {},
   "cell_type": "markdown",
   "source": "4. Removing null values",
   "id": "ec598414705f0d74"
  },
  {
   "cell_type": "code",
   "id": "171d3eb07a201780",
   "metadata": {},
   "source": [
    "def display_distinct_values(column: str) -> None:\n",
    "\tprint(list(set(list(beds_df[column]))))"
   ],
   "outputs": [],
   "execution_count": null
  },
  {
   "cell_type": "markdown",
   "id": "dadb5ea138f9b5e7",
   "metadata": {},
   "source": [
    "5. Adjusting data types"
   ]
  },
  {
   "cell_type": "code",
   "id": "547c99c5e061daa7",
   "metadata": {},
   "source": [
    "beds_df['Średnioroczna liczba łóżek'] = beds_df['Średnioroczna liczba łóżek'].astype(str).str.replace(',', '.')"
   ],
   "outputs": [],
   "execution_count": null
  },
  {
   "cell_type": "code",
   "id": "b6d6a13a7dfc89ad",
   "metadata": {},
   "source": [
    "beds_df = beds_df.astype({'Liczba oddziałów': 'int64', 'Liczba łóżek 31.12': 'int64', 'Średnioroczna liczba łóżek': 'float64'})"
   ],
   "outputs": [],
   "execution_count": null
  },
  {
   "cell_type": "code",
   "id": "52e3d2fcea4c7e5e",
   "metadata": {},
   "source": [
    "beds_df"
   ],
   "outputs": [],
   "execution_count": null
  },
  {
   "cell_type": "markdown",
   "id": "7b652363c379d691",
   "metadata": {},
   "source": [
    "6. Plots"
   ]
  },
  {
   "cell_type": "code",
   "id": "d776e51a652d2a3d",
   "metadata": {},
   "source": [
    "beds_df.hist(figsize=(15, 15), bins=50, xlabelsize=10, ylabelsize=10)"
   ],
   "outputs": [],
   "execution_count": null
  },
  {
   "cell_type": "code",
   "id": "642d80baca9aed72",
   "metadata": {},
   "source": [
    "df = beds_df.loc[beds_df['Rok'] == 2023, ['Województwo', 'Liczba oddziałów']].groupby('Województwo').agg({'Liczba oddziałów': 'sum'})\n",
    "df = df.sort_values('Liczba oddziałów', ascending=False)\n",
    "df.plot(kind='bar', figsize=(10,5))\n",
    "plt.title('Liczba oddziałów na województwo')\n",
    "plt.ylabel('Liczba oddziałów')\n",
    "plt.xlabel('Województwo')"
   ],
   "outputs": [],
   "execution_count": null
  },
  {
   "cell_type": "code",
   "id": "7b474f2d99f9aeb3",
   "metadata": {},
   "source": [
    "print(beds_df.loc[beds_df['Rok'] == 2023].groupby('Województwo')['Liczba oddziałów'].sum().sort_values())"
   ],
   "outputs": [],
   "execution_count": null
  },
  {
   "cell_type": "code",
   "id": "621cd06a773ba93",
   "metadata": {},
   "source": [
    "df = beds_df.loc[beds_df['Rok'] == 2023, ['Województwo', 'Liczba łóżek 31.12']].groupby('Województwo').agg({'Liczba łóżek 31.12': 'sum'})\n",
    "df = df.sort_values('Liczba łóżek 31.12', ascending=False)\n",
    "df.plot(kind='bar', figsize=(10,5))\n",
    "plt.title('Liczba łóżek na województwo (stan na 31.12.2023')\n",
    "plt.ylabel('Liczba łóżek 31.12')\n",
    "plt.xlabel('Województwo')"
   ],
   "outputs": [],
   "execution_count": null
  },
  {
   "cell_type": "markdown",
   "id": "5b4b5e54770c3b7",
   "metadata": {},
   "source": [
    "mapka"
   ]
  },
  {
   "metadata": {},
   "cell_type": "code",
   "source": "beds_df",
   "id": "2c118d08de3aece",
   "outputs": [],
   "execution_count": null
  }
 ],
 "metadata": {
  "kernelspec": {
   "display_name": "EDA",
   "language": "python",
   "name": "python3"
  },
  "language_info": {
   "codemirror_mode": {
    "name": "ipython",
    "version": 3
   },
   "file_extension": ".py",
   "mimetype": "text/x-python",
   "name": "python",
   "nbconvert_exporter": "python",
   "pygments_lexer": "ipython3",
   "version": "3.13.5"
  }
 },
 "nbformat": 4,
 "nbformat_minor": 5
}
