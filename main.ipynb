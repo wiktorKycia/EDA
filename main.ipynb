{
 "cells": [
  {
   "cell_type": "markdown",
   "id": "ed732ed3f0637bd4",
   "metadata": {},
   "source": "# 0. Imports and reading data"
  },
  {
   "cell_type": "code",
   "id": "6cf0b539bc7116c2",
   "metadata": {
    "collapsed": true,
    "ExecuteTime": {
     "end_time": "2025-08-28T12:30:24.244268Z",
     "start_time": "2025-08-28T12:30:24.162684Z"
    }
   },
   "source": [
    "import pandas as pd\n",
    "import numpy as np\n",
    "import seaborn as sns\n",
    "import matplotlib.pylab as plt\n",
    "plt.style.use('ggplot')\n",
    "pd.set_option('display.max_columns', 200) # in order to always display every column"
   ],
   "outputs": [],
   "execution_count": 1
  },
  {
   "metadata": {
    "ExecuteTime": {
     "end_time": "2025-08-28T12:30:25.805199Z",
     "start_time": "2025-08-28T12:30:25.396615Z"
    }
   },
   "cell_type": "code",
   "source": "df = pd.read_csv(\"data/Specjalnosci_lozka.csv\")",
   "id": "35b9f20f6cde1c05",
   "outputs": [],
   "execution_count": 2
  },
  {
   "metadata": {},
   "cell_type": "markdown",
   "source": [
    "# 1. Data understanding\n",
    "\n",
    "- Dataframe `shape`\n",
    "- `head` and `tail`\n",
    "- `dtypes`\n",
    "- `describe`"
   ],
   "id": "7ee993ae0949a891"
  },
  {
   "metadata": {
    "ExecuteTime": {
     "end_time": "2025-08-28T12:30:27.017014Z",
     "start_time": "2025-08-28T12:30:26.993844Z"
    }
   },
   "cell_type": "code",
   "source": "df.shape",
   "id": "df5a6990792d4b48",
   "outputs": [
    {
     "data": {
      "text/plain": [
       "(51153, 11)"
      ]
     },
     "execution_count": 3,
     "metadata": {},
     "output_type": "execute_result"
    }
   ],
   "execution_count": 3
  },
  {
   "metadata": {
    "ExecuteTime": {
     "end_time": "2025-08-28T12:30:28.356225Z",
     "start_time": "2025-08-28T12:30:28.325123Z"
    }
   },
   "cell_type": "code",
   "source": "df.head",
   "id": "1ae70312de15200f",
   "outputs": [
    {
     "data": {
      "text/plain": [
       "<bound method NDFrame.head of         Rok         Województwo         Powiat         Gmina  \\\n",
       "0      2017        dolnośląskie  bolesławiecki  Nowogrodziec   \n",
       "1      2017        dolnośląskie  bolesławiecki   Bolesławiec   \n",
       "2      2017        dolnośląskie  bolesławiecki   Bolesławiec   \n",
       "3      2017        dolnośląskie  bolesławiecki   Bolesławiec   \n",
       "4      2017        dolnośląskie  bolesławiecki   Bolesławiec   \n",
       "...     ...                 ...            ...           ...   \n",
       "51148  2023            opolskie       m. Opole         Opole   \n",
       "51149  2023             śląskie    m. Katowice      Katowice   \n",
       "51150  2023       wielkopolskie      m. Poznań        Poznań   \n",
       "51151  2023       wielkopolskie      m. Poznań        Poznań   \n",
       "51152  2023  zachodniopomorskie    m. Szczecin      Szczecin   \n",
       "\n",
       "           Poziom sieci PSZ  \\\n",
       "0               Poza siecią   \n",
       "1         Szpital I stopnia   \n",
       "2         Szpital I stopnia   \n",
       "3         Szpital I stopnia   \n",
       "4         Szpital I stopnia   \n",
       "...                     ...   \n",
       "51148           Poza siecią   \n",
       "51149  Szpital onkologiczny   \n",
       "51150  Szpital onkologiczny   \n",
       "51151  Szpital ogólnopolski   \n",
       "51152  Szpital ogólnopolski   \n",
       "\n",
       "                                        Rodzaj Świadczeń  \\\n",
       "0                Ośrodki (Zespoły) Opieki Pozaszpitalnej   \n",
       "1      Oddziały Szpitalne i Inne Komórki Opieki Szpit...   \n",
       "2      Oddziały Szpitalne i Inne Komórki Opieki Szpit...   \n",
       "3      Oddziały Szpitalne i Inne Komórki Opieki Szpit...   \n",
       "4      Oddziały Szpitalne i Inne Komórki Opieki Szpit...   \n",
       "...                                                  ...   \n",
       "51148  Inne Komórki Organizacyjne Działalnosci Medycznej   \n",
       "51149  Inne Komórki Organizacyjne Działalnosci Medycznej   \n",
       "51150  Inne Komórki Organizacyjne Działalnosci Medycznej   \n",
       "51151  Inne Komórki Organizacyjne Działalnosci Medycznej   \n",
       "51152  Inne Komórki Organizacyjne Działalnosci Medycznej   \n",
       "\n",
       "                              Nazwa Specjalności komórki  \\\n",
       "0      Hospicjum stacjonarne/stacjonarny ośrodek opie...   \n",
       "1                            Oddział chorób wewnętrznych   \n",
       "2                                  Oddział neurologiczny   \n",
       "3           Oddział anestezjologii i intensywnej terapii   \n",
       "4                               Oddział chorób zakaźnych   \n",
       "...                                                  ...   \n",
       "51148  Inna i nieokreślona komórka działalności medyc...   \n",
       "51149  Inna i nieokreślona komórka działalności medyc...   \n",
       "51150  Inna i nieokreślona komórka działalności medyc...   \n",
       "51151  Inna i nieokreślona komórka działalności medyc...   \n",
       "51152  Inna i nieokreślona komórka działalności medyc...   \n",
       "\n",
       "      Kod specjalności komórki Liczba oddziałów  Liczba łóżek 31.12  \\\n",
       "0                         2184                1                  15   \n",
       "1                         4000                1                  31   \n",
       "2                         4220                1                  12   \n",
       "3                         4260                1                   7   \n",
       "4                         4340                1                  11   \n",
       "...                        ...              ...                 ...   \n",
       "51148                     9000                1                  26   \n",
       "51149                     9000                1                   5   \n",
       "51150                     9000                1                   5   \n",
       "51151                     9000                1                   0   \n",
       "51152                     9000                1                  10   \n",
       "\n",
       "      Średnioroczna liczba łóżek  \n",
       "0                             15  \n",
       "1                             31  \n",
       "2                             12  \n",
       "3                              7  \n",
       "4                             11  \n",
       "...                          ...  \n",
       "51148                         26  \n",
       "51149                          5  \n",
       "51150                          5  \n",
       "51151                          0  \n",
       "51152                          5  \n",
       "\n",
       "[51153 rows x 11 columns]>"
      ]
     },
     "execution_count": 4,
     "metadata": {},
     "output_type": "execute_result"
    }
   ],
   "execution_count": 4
  },
  {
   "metadata": {
    "ExecuteTime": {
     "end_time": "2025-08-28T12:30:30.315789Z",
     "start_time": "2025-08-28T12:30:30.301924Z"
    }
   },
   "cell_type": "code",
   "source": "df.columns",
   "id": "df7b20a25d586901",
   "outputs": [
    {
     "data": {
      "text/plain": [
       "Index(['Rok', 'Województwo', 'Powiat', 'Gmina', 'Poziom sieci PSZ',\n",
       "       'Rodzaj Świadczeń', 'Nazwa Specjalności komórki',\n",
       "       'Kod specjalności komórki', 'Liczba oddziałów', 'Liczba łóżek 31.12',\n",
       "       'Średnioroczna liczba łóżek'],\n",
       "      dtype='object')"
      ]
     },
     "execution_count": 5,
     "metadata": {},
     "output_type": "execute_result"
    }
   ],
   "execution_count": 5
  },
  {
   "metadata": {
    "ExecuteTime": {
     "end_time": "2025-08-28T12:30:31.893415Z",
     "start_time": "2025-08-28T12:30:31.876326Z"
    }
   },
   "cell_type": "code",
   "source": "df.dtypes",
   "id": "9e8c19a568ec8e3",
   "outputs": [
    {
     "data": {
      "text/plain": [
       "Rok                            int64\n",
       "Województwo                   object\n",
       "Powiat                        object\n",
       "Gmina                         object\n",
       "Poziom sieci PSZ              object\n",
       "Rodzaj Świadczeń              object\n",
       "Nazwa Specjalności komórki    object\n",
       "Kod specjalności komórki      object\n",
       "Liczba oddziałów              object\n",
       "Liczba łóżek 31.12             int64\n",
       "Średnioroczna liczba łóżek    object\n",
       "dtype: object"
      ]
     },
     "execution_count": 6,
     "metadata": {},
     "output_type": "execute_result"
    }
   ],
   "execution_count": 6
  },
  {
   "metadata": {
    "ExecuteTime": {
     "end_time": "2025-08-28T12:30:34.206455Z",
     "start_time": "2025-08-28T12:30:34.153740Z"
    }
   },
   "cell_type": "code",
   "source": "df.describe()",
   "id": "382a216e23d471ba",
   "outputs": [
    {
     "data": {
      "text/plain": [
       "                Rok  Liczba łóżek 31.12\n",
       "count  51153.000000        51153.000000\n",
       "mean    2019.996931           38.363244\n",
       "std        2.000657          110.572200\n",
       "min     2017.000000            0.000000\n",
       "25%     2018.000000           14.000000\n",
       "50%     2020.000000           24.000000\n",
       "75%     2022.000000           39.000000\n",
       "max     2023.000000         5618.000000"
      ],
      "text/html": [
       "<div>\n",
       "<style scoped>\n",
       "    .dataframe tbody tr th:only-of-type {\n",
       "        vertical-align: middle;\n",
       "    }\n",
       "\n",
       "    .dataframe tbody tr th {\n",
       "        vertical-align: top;\n",
       "    }\n",
       "\n",
       "    .dataframe thead th {\n",
       "        text-align: right;\n",
       "    }\n",
       "</style>\n",
       "<table border=\"1\" class=\"dataframe\">\n",
       "  <thead>\n",
       "    <tr style=\"text-align: right;\">\n",
       "      <th></th>\n",
       "      <th>Rok</th>\n",
       "      <th>Liczba łóżek 31.12</th>\n",
       "    </tr>\n",
       "  </thead>\n",
       "  <tbody>\n",
       "    <tr>\n",
       "      <th>count</th>\n",
       "      <td>51153.000000</td>\n",
       "      <td>51153.000000</td>\n",
       "    </tr>\n",
       "    <tr>\n",
       "      <th>mean</th>\n",
       "      <td>2019.996931</td>\n",
       "      <td>38.363244</td>\n",
       "    </tr>\n",
       "    <tr>\n",
       "      <th>std</th>\n",
       "      <td>2.000657</td>\n",
       "      <td>110.572200</td>\n",
       "    </tr>\n",
       "    <tr>\n",
       "      <th>min</th>\n",
       "      <td>2017.000000</td>\n",
       "      <td>0.000000</td>\n",
       "    </tr>\n",
       "    <tr>\n",
       "      <th>25%</th>\n",
       "      <td>2018.000000</td>\n",
       "      <td>14.000000</td>\n",
       "    </tr>\n",
       "    <tr>\n",
       "      <th>50%</th>\n",
       "      <td>2020.000000</td>\n",
       "      <td>24.000000</td>\n",
       "    </tr>\n",
       "    <tr>\n",
       "      <th>75%</th>\n",
       "      <td>2022.000000</td>\n",
       "      <td>39.000000</td>\n",
       "    </tr>\n",
       "    <tr>\n",
       "      <th>max</th>\n",
       "      <td>2023.000000</td>\n",
       "      <td>5618.000000</td>\n",
       "    </tr>\n",
       "  </tbody>\n",
       "</table>\n",
       "</div>"
      ]
     },
     "execution_count": 7,
     "metadata": {},
     "output_type": "execute_result"
    }
   ],
   "execution_count": 7
  },
  {
   "metadata": {},
   "cell_type": "markdown",
   "source": [
    "# 2. Data preparation\n",
    "\n",
    "- dropping irrelevant columns and rows\n",
    "- identifying duplicated columns\n",
    "- renaming columns\n",
    "- feature creation"
   ],
   "id": "7b4ba8cdd5890ca3"
  },
  {
   "metadata": {
    "ExecuteTime": {
     "end_time": "2025-08-28T12:30:36.854288Z",
     "start_time": "2025-08-28T12:30:36.817058Z"
    }
   },
   "cell_type": "code",
   "source": "df.head()",
   "id": "105c5b3ce376c30d",
   "outputs": [
    {
     "data": {
      "text/plain": [
       "    Rok   Województwo         Powiat         Gmina   Poziom sieci PSZ  \\\n",
       "0  2017  dolnośląskie  bolesławiecki  Nowogrodziec        Poza siecią   \n",
       "1  2017  dolnośląskie  bolesławiecki   Bolesławiec  Szpital I stopnia   \n",
       "2  2017  dolnośląskie  bolesławiecki   Bolesławiec  Szpital I stopnia   \n",
       "3  2017  dolnośląskie  bolesławiecki   Bolesławiec  Szpital I stopnia   \n",
       "4  2017  dolnośląskie  bolesławiecki   Bolesławiec  Szpital I stopnia   \n",
       "\n",
       "                                    Rodzaj Świadczeń  \\\n",
       "0            Ośrodki (Zespoły) Opieki Pozaszpitalnej   \n",
       "1  Oddziały Szpitalne i Inne Komórki Opieki Szpit...   \n",
       "2  Oddziały Szpitalne i Inne Komórki Opieki Szpit...   \n",
       "3  Oddziały Szpitalne i Inne Komórki Opieki Szpit...   \n",
       "4  Oddziały Szpitalne i Inne Komórki Opieki Szpit...   \n",
       "\n",
       "                          Nazwa Specjalności komórki Kod specjalności komórki  \\\n",
       "0  Hospicjum stacjonarne/stacjonarny ośrodek opie...                     2184   \n",
       "1                        Oddział chorób wewnętrznych                     4000   \n",
       "2                              Oddział neurologiczny                     4220   \n",
       "3       Oddział anestezjologii i intensywnej terapii                     4260   \n",
       "4                           Oddział chorób zakaźnych                     4340   \n",
       "\n",
       "  Liczba oddziałów  Liczba łóżek 31.12 Średnioroczna liczba łóżek  \n",
       "0                1                  15                         15  \n",
       "1                1                  31                         31  \n",
       "2                1                  12                         12  \n",
       "3                1                   7                          7  \n",
       "4                1                  11                         11  "
      ],
      "text/html": [
       "<div>\n",
       "<style scoped>\n",
       "    .dataframe tbody tr th:only-of-type {\n",
       "        vertical-align: middle;\n",
       "    }\n",
       "\n",
       "    .dataframe tbody tr th {\n",
       "        vertical-align: top;\n",
       "    }\n",
       "\n",
       "    .dataframe thead th {\n",
       "        text-align: right;\n",
       "    }\n",
       "</style>\n",
       "<table border=\"1\" class=\"dataframe\">\n",
       "  <thead>\n",
       "    <tr style=\"text-align: right;\">\n",
       "      <th></th>\n",
       "      <th>Rok</th>\n",
       "      <th>Województwo</th>\n",
       "      <th>Powiat</th>\n",
       "      <th>Gmina</th>\n",
       "      <th>Poziom sieci PSZ</th>\n",
       "      <th>Rodzaj Świadczeń</th>\n",
       "      <th>Nazwa Specjalności komórki</th>\n",
       "      <th>Kod specjalności komórki</th>\n",
       "      <th>Liczba oddziałów</th>\n",
       "      <th>Liczba łóżek 31.12</th>\n",
       "      <th>Średnioroczna liczba łóżek</th>\n",
       "    </tr>\n",
       "  </thead>\n",
       "  <tbody>\n",
       "    <tr>\n",
       "      <th>0</th>\n",
       "      <td>2017</td>\n",
       "      <td>dolnośląskie</td>\n",
       "      <td>bolesławiecki</td>\n",
       "      <td>Nowogrodziec</td>\n",
       "      <td>Poza siecią</td>\n",
       "      <td>Ośrodki (Zespoły) Opieki Pozaszpitalnej</td>\n",
       "      <td>Hospicjum stacjonarne/stacjonarny ośrodek opie...</td>\n",
       "      <td>2184</td>\n",
       "      <td>1</td>\n",
       "      <td>15</td>\n",
       "      <td>15</td>\n",
       "    </tr>\n",
       "    <tr>\n",
       "      <th>1</th>\n",
       "      <td>2017</td>\n",
       "      <td>dolnośląskie</td>\n",
       "      <td>bolesławiecki</td>\n",
       "      <td>Bolesławiec</td>\n",
       "      <td>Szpital I stopnia</td>\n",
       "      <td>Oddziały Szpitalne i Inne Komórki Opieki Szpit...</td>\n",
       "      <td>Oddział chorób wewnętrznych</td>\n",
       "      <td>4000</td>\n",
       "      <td>1</td>\n",
       "      <td>31</td>\n",
       "      <td>31</td>\n",
       "    </tr>\n",
       "    <tr>\n",
       "      <th>2</th>\n",
       "      <td>2017</td>\n",
       "      <td>dolnośląskie</td>\n",
       "      <td>bolesławiecki</td>\n",
       "      <td>Bolesławiec</td>\n",
       "      <td>Szpital I stopnia</td>\n",
       "      <td>Oddziały Szpitalne i Inne Komórki Opieki Szpit...</td>\n",
       "      <td>Oddział neurologiczny</td>\n",
       "      <td>4220</td>\n",
       "      <td>1</td>\n",
       "      <td>12</td>\n",
       "      <td>12</td>\n",
       "    </tr>\n",
       "    <tr>\n",
       "      <th>3</th>\n",
       "      <td>2017</td>\n",
       "      <td>dolnośląskie</td>\n",
       "      <td>bolesławiecki</td>\n",
       "      <td>Bolesławiec</td>\n",
       "      <td>Szpital I stopnia</td>\n",
       "      <td>Oddziały Szpitalne i Inne Komórki Opieki Szpit...</td>\n",
       "      <td>Oddział anestezjologii i intensywnej terapii</td>\n",
       "      <td>4260</td>\n",
       "      <td>1</td>\n",
       "      <td>7</td>\n",
       "      <td>7</td>\n",
       "    </tr>\n",
       "    <tr>\n",
       "      <th>4</th>\n",
       "      <td>2017</td>\n",
       "      <td>dolnośląskie</td>\n",
       "      <td>bolesławiecki</td>\n",
       "      <td>Bolesławiec</td>\n",
       "      <td>Szpital I stopnia</td>\n",
       "      <td>Oddziały Szpitalne i Inne Komórki Opieki Szpit...</td>\n",
       "      <td>Oddział chorób zakaźnych</td>\n",
       "      <td>4340</td>\n",
       "      <td>1</td>\n",
       "      <td>11</td>\n",
       "      <td>11</td>\n",
       "    </tr>\n",
       "  </tbody>\n",
       "</table>\n",
       "</div>"
      ]
     },
     "execution_count": 8,
     "metadata": {},
     "output_type": "execute_result"
    }
   ],
   "execution_count": 8
  },
  {
   "metadata": {
    "ExecuteTime": {
     "end_time": "2025-08-28T12:30:39.108520Z",
     "start_time": "2025-08-28T12:30:39.077194Z"
    }
   },
   "cell_type": "code",
   "source": "df = df.drop(columns=['Kod specjalności komórki']) # dropping redundant column",
   "id": "874e05927ab27bf8",
   "outputs": [],
   "execution_count": 9
  },
  {
   "metadata": {
    "ExecuteTime": {
     "end_time": "2025-08-28T12:30:40.844823Z",
     "start_time": "2025-08-28T12:30:40.832921Z"
    }
   },
   "cell_type": "code",
   "source": "df.shape # checking if it is actually removed now",
   "id": "e565701dfb38e119",
   "outputs": [
    {
     "data": {
      "text/plain": [
       "(51153, 10)"
      ]
     },
     "execution_count": 10,
     "metadata": {},
     "output_type": "execute_result"
    }
   ],
   "execution_count": 10
  },
  {
   "metadata": {},
   "cell_type": "markdown",
   "source": "correcting data types",
   "id": "673ae15258aca67b"
  },
  {
   "metadata": {
    "ExecuteTime": {
     "end_time": "2025-08-28T12:30:43.045396Z",
     "start_time": "2025-08-28T12:30:43.029321Z"
    }
   },
   "cell_type": "code",
   "source": "df.dtypes",
   "id": "8e7a659677017bfc",
   "outputs": [
    {
     "data": {
      "text/plain": [
       "Rok                            int64\n",
       "Województwo                   object\n",
       "Powiat                        object\n",
       "Gmina                         object\n",
       "Poziom sieci PSZ              object\n",
       "Rodzaj Świadczeń              object\n",
       "Nazwa Specjalności komórki    object\n",
       "Liczba oddziałów              object\n",
       "Liczba łóżek 31.12             int64\n",
       "Średnioroczna liczba łóżek    object\n",
       "dtype: object"
      ]
     },
     "execution_count": 11,
     "metadata": {},
     "output_type": "execute_result"
    }
   ],
   "execution_count": 11
  },
  {
   "metadata": {},
   "cell_type": "markdown",
   "source": "but first, replace missing values with actual nulls",
   "id": "6c1fdf115c2c6792"
  },
  {
   "cell_type": "code",
   "id": "791380f96f2f1c54",
   "metadata": {
    "ExecuteTime": {
     "end_time": "2025-08-28T12:30:46.019169Z",
     "start_time": "2025-08-28T12:30:45.891764Z"
    }
   },
   "source": [
    "missing_values = ['brak danych', 'brak', 'n/a', 'N/A', '']\n",
    "df.replace(missing_values, pd.NA, inplace=True)"
   ],
   "outputs": [],
   "execution_count": 12
  },
  {
   "metadata": {
    "ExecuteTime": {
     "end_time": "2025-08-28T12:33:50.330300Z",
     "start_time": "2025-08-28T12:33:50.245933Z"
    }
   },
   "cell_type": "code",
   "source": "print(df.isna().sum()) # counting null values",
   "id": "e3358b5e0722fa38",
   "outputs": [
    {
     "name": "stdout",
     "output_type": "stream",
     "text": [
      "Rok                             0\n",
      "Województwo                     0\n",
      "Powiat                          0\n",
      "Gmina                           0\n",
      "Poziom sieci PSZ                0\n",
      "Rodzaj Świadczeń                0\n",
      "Nazwa Specjalności komórki      0\n",
      "Liczba oddziałów              100\n",
      "Liczba łóżek 31.12              0\n",
      "Średnioroczna liczba łóżek      0\n",
      "dtype: int64\n"
     ]
    }
   ],
   "execution_count": 15
  },
  {
   "metadata": {
    "ExecuteTime": {
     "end_time": "2025-08-28T13:23:02.013597Z",
     "start_time": "2025-08-28T13:23:01.946941Z"
    }
   },
   "cell_type": "code",
   "source": "df = df.dropna() # dropping null values",
   "id": "39039d839fe35ee2",
   "outputs": [],
   "execution_count": 46
  },
  {
   "metadata": {
    "ExecuteTime": {
     "end_time": "2025-08-28T12:34:16.776384Z",
     "start_time": "2025-08-28T12:34:16.764712Z"
    }
   },
   "cell_type": "code",
   "source": "df['Liczba oddziałów'] = df['Liczba oddziałów'].astype(int)",
   "id": "c6d37f309fc3b66",
   "outputs": [],
   "execution_count": 18
  },
  {
   "metadata": {
    "ExecuteTime": {
     "end_time": "2025-08-28T12:34:18.951670Z",
     "start_time": "2025-08-28T12:34:18.855737Z"
    }
   },
   "cell_type": "code",
   "source": "df['Średnioroczna liczba łóżek'] = df['Średnioroczna liczba łóżek'].astype(str).str.replace(',', '.').astype(float)",
   "id": "c14b7ddd36022f9",
   "outputs": [],
   "execution_count": 19
  },
  {
   "metadata": {
    "ExecuteTime": {
     "end_time": "2025-08-28T12:34:20.100554Z",
     "start_time": "2025-08-28T12:34:20.079929Z"
    }
   },
   "cell_type": "code",
   "source": "df.dtypes",
   "id": "1e4736d7680f4953",
   "outputs": [
    {
     "data": {
      "text/plain": [
       "Rok                             int64\n",
       "Województwo                    object\n",
       "Powiat                         object\n",
       "Gmina                          object\n",
       "Poziom sieci PSZ               object\n",
       "Rodzaj Świadczeń               object\n",
       "Nazwa Specjalności komórki     object\n",
       "Liczba oddziałów                int64\n",
       "Liczba łóżek 31.12              int64\n",
       "Średnioroczna liczba łóżek    float64\n",
       "dtype: object"
      ]
     },
     "execution_count": 20,
     "metadata": {},
     "output_type": "execute_result"
    }
   ],
   "execution_count": 20
  },
  {
   "metadata": {},
   "cell_type": "markdown",
   "source": "renaming columns",
   "id": "2972ff9fc90f4b47"
  },
  {
   "metadata": {
    "ExecuteTime": {
     "end_time": "2025-08-28T12:38:12.382497Z",
     "start_time": "2025-08-28T12:38:12.375652Z"
    }
   },
   "cell_type": "code",
   "source": "df.columns",
   "id": "65ee5443fd8093ea",
   "outputs": [
    {
     "data": {
      "text/plain": [
       "Index(['Rok', 'Województwo', 'Powiat', 'Gmina', 'Poziom sieci PSZ',\n",
       "       'Rodzaj Świadczeń', 'Nazwa Specjalności komórki', 'Liczba oddziałów',\n",
       "       'Liczba łóżek 31.12', 'Średnioroczna liczba łóżek'],\n",
       "      dtype='object')"
      ]
     },
     "execution_count": 21,
     "metadata": {},
     "output_type": "execute_result"
    }
   ],
   "execution_count": 21
  },
  {
   "metadata": {
    "ExecuteTime": {
     "end_time": "2025-08-28T12:47:10.912780Z",
     "start_time": "2025-08-28T12:47:10.903488Z"
    }
   },
   "cell_type": "code",
   "source": [
    "df = df.rename(columns={\n",
    "\t'Rok': 'rok',\n",
    "\t'Województwo': 'wojewodztwo',\n",
    "\t'Powiat': 'powiat',\n",
    "\t'Gmina': 'gmina',\n",
    "\t'Poziom sieci PSZ': 'poziom_sieci',\n",
    "\t'Rodzaj Świadczeń': 'rodzaj_swiadczen',\n",
    "\t'Nazwa Specjalności komórki': 'specjalnosc',\n",
    "\t'Liczba oddziałów': 'liczba_oddzialow',\n",
    "\t'Liczba łóżek 31.12': 'liczba_lozek_na_koniec_roku',\n",
    "\t'Średnioroczna liczba łóżek': 'srednioroczna_liczba_lozek'\n",
    "})"
   ],
   "id": "f0cde03751ff2286",
   "outputs": [],
   "execution_count": 24
  },
  {
   "metadata": {
    "ExecuteTime": {
     "end_time": "2025-08-28T12:47:12.414420Z",
     "start_time": "2025-08-28T12:47:12.401614Z"
    }
   },
   "cell_type": "code",
   "source": "df.columns",
   "id": "bbc33802f657b71e",
   "outputs": [
    {
     "data": {
      "text/plain": [
       "Index(['rok', 'wojewodztwo', 'powiat', 'gmina', 'poziom_sieci',\n",
       "       'rodzaj_swiadczen', 'specjalnosc', 'liczba_oddzialow',\n",
       "       'liczba_lozek_na_koniec_roku', 'srednioroczna_liczba_lozek'],\n",
       "      dtype='object')"
      ]
     },
     "execution_count": 25,
     "metadata": {},
     "output_type": "execute_result"
    }
   ],
   "execution_count": 25
  },
  {
   "metadata": {},
   "cell_type": "markdown",
   "source": "checking for duplicated values",
   "id": "45bd7a6b20413154"
  },
  {
   "metadata": {
    "ExecuteTime": {
     "end_time": "2025-08-28T12:51:22.017303Z",
     "start_time": "2025-08-28T12:51:21.964381Z"
    }
   },
   "cell_type": "code",
   "source": "df.loc[df.duplicated()] # if we see nothing, everything is good",
   "id": "f1772669db15ad60",
   "outputs": [
    {
     "data": {
      "text/plain": [
       "Empty DataFrame\n",
       "Columns: [rok, wojewodztwo, powiat, gmina, poziom_sieci, rodzaj_swiadczen, specjalnosc, liczba_oddzialow, liczba_lozek_na_koniec_roku, srednioroczna_liczba_lozek]\n",
       "Index: []"
      ],
      "text/html": [
       "<div>\n",
       "<style scoped>\n",
       "    .dataframe tbody tr th:only-of-type {\n",
       "        vertical-align: middle;\n",
       "    }\n",
       "\n",
       "    .dataframe tbody tr th {\n",
       "        vertical-align: top;\n",
       "    }\n",
       "\n",
       "    .dataframe thead th {\n",
       "        text-align: right;\n",
       "    }\n",
       "</style>\n",
       "<table border=\"1\" class=\"dataframe\">\n",
       "  <thead>\n",
       "    <tr style=\"text-align: right;\">\n",
       "      <th></th>\n",
       "      <th>rok</th>\n",
       "      <th>wojewodztwo</th>\n",
       "      <th>powiat</th>\n",
       "      <th>gmina</th>\n",
       "      <th>poziom_sieci</th>\n",
       "      <th>rodzaj_swiadczen</th>\n",
       "      <th>specjalnosc</th>\n",
       "      <th>liczba_oddzialow</th>\n",
       "      <th>liczba_lozek_na_koniec_roku</th>\n",
       "      <th>srednioroczna_liczba_lozek</th>\n",
       "    </tr>\n",
       "  </thead>\n",
       "  <tbody>\n",
       "  </tbody>\n",
       "</table>\n",
       "</div>"
      ]
     },
     "execution_count": 27,
     "metadata": {},
     "output_type": "execute_result"
    }
   ],
   "execution_count": 27
  },
  {
   "metadata": {
    "ExecuteTime": {
     "end_time": "2025-08-28T12:54:59.136816Z",
     "start_time": "2025-08-28T12:54:59.079533Z"
    }
   },
   "cell_type": "code",
   "source": "df.loc[df.duplicated(subset=['rodzaj_swiadczen'])].head()",
   "id": "f67438223e8ca486",
   "outputs": [
    {
     "data": {
      "text/plain": [
       "    rok   wojewodztwo         powiat        gmina       poziom_sieci  \\\n",
       "2  2017  dolnośląskie  bolesławiecki  Bolesławiec  Szpital I stopnia   \n",
       "3  2017  dolnośląskie  bolesławiecki  Bolesławiec  Szpital I stopnia   \n",
       "4  2017  dolnośląskie  bolesławiecki  Bolesławiec  Szpital I stopnia   \n",
       "5  2017  dolnośląskie  bolesławiecki  Bolesławiec  Szpital I stopnia   \n",
       "6  2017  dolnośląskie  bolesławiecki  Bolesławiec  Szpital I stopnia   \n",
       "\n",
       "                                    rodzaj_swiadczen  \\\n",
       "2  Oddziały Szpitalne i Inne Komórki Opieki Szpit...   \n",
       "3  Oddziały Szpitalne i Inne Komórki Opieki Szpit...   \n",
       "4  Oddziały Szpitalne i Inne Komórki Opieki Szpit...   \n",
       "5  Oddziały Szpitalne i Inne Komórki Opieki Szpit...   \n",
       "6  Oddziały Szpitalne i Inne Komórki Opieki Szpit...   \n",
       "\n",
       "                                    specjalnosc  liczba_oddzialow  \\\n",
       "2                         Oddział neurologiczny                 1   \n",
       "3  Oddział anestezjologii i intensywnej terapii                 1   \n",
       "4                      Oddział chorób zakaźnych                 1   \n",
       "5                          Oddział pediatryczny                 1   \n",
       "6                       Oddział neonatologiczny                 1   \n",
       "\n",
       "   liczba_lozek_na_koniec_roku  srednioroczna_liczba_lozek  \n",
       "2                           12                        12.0  \n",
       "3                            7                         7.0  \n",
       "4                           11                        11.0  \n",
       "5                           15                        15.0  \n",
       "6                           12                        12.0  "
      ],
      "text/html": [
       "<div>\n",
       "<style scoped>\n",
       "    .dataframe tbody tr th:only-of-type {\n",
       "        vertical-align: middle;\n",
       "    }\n",
       "\n",
       "    .dataframe tbody tr th {\n",
       "        vertical-align: top;\n",
       "    }\n",
       "\n",
       "    .dataframe thead th {\n",
       "        text-align: right;\n",
       "    }\n",
       "</style>\n",
       "<table border=\"1\" class=\"dataframe\">\n",
       "  <thead>\n",
       "    <tr style=\"text-align: right;\">\n",
       "      <th></th>\n",
       "      <th>rok</th>\n",
       "      <th>wojewodztwo</th>\n",
       "      <th>powiat</th>\n",
       "      <th>gmina</th>\n",
       "      <th>poziom_sieci</th>\n",
       "      <th>rodzaj_swiadczen</th>\n",
       "      <th>specjalnosc</th>\n",
       "      <th>liczba_oddzialow</th>\n",
       "      <th>liczba_lozek_na_koniec_roku</th>\n",
       "      <th>srednioroczna_liczba_lozek</th>\n",
       "    </tr>\n",
       "  </thead>\n",
       "  <tbody>\n",
       "    <tr>\n",
       "      <th>2</th>\n",
       "      <td>2017</td>\n",
       "      <td>dolnośląskie</td>\n",
       "      <td>bolesławiecki</td>\n",
       "      <td>Bolesławiec</td>\n",
       "      <td>Szpital I stopnia</td>\n",
       "      <td>Oddziały Szpitalne i Inne Komórki Opieki Szpit...</td>\n",
       "      <td>Oddział neurologiczny</td>\n",
       "      <td>1</td>\n",
       "      <td>12</td>\n",
       "      <td>12.0</td>\n",
       "    </tr>\n",
       "    <tr>\n",
       "      <th>3</th>\n",
       "      <td>2017</td>\n",
       "      <td>dolnośląskie</td>\n",
       "      <td>bolesławiecki</td>\n",
       "      <td>Bolesławiec</td>\n",
       "      <td>Szpital I stopnia</td>\n",
       "      <td>Oddziały Szpitalne i Inne Komórki Opieki Szpit...</td>\n",
       "      <td>Oddział anestezjologii i intensywnej terapii</td>\n",
       "      <td>1</td>\n",
       "      <td>7</td>\n",
       "      <td>7.0</td>\n",
       "    </tr>\n",
       "    <tr>\n",
       "      <th>4</th>\n",
       "      <td>2017</td>\n",
       "      <td>dolnośląskie</td>\n",
       "      <td>bolesławiecki</td>\n",
       "      <td>Bolesławiec</td>\n",
       "      <td>Szpital I stopnia</td>\n",
       "      <td>Oddziały Szpitalne i Inne Komórki Opieki Szpit...</td>\n",
       "      <td>Oddział chorób zakaźnych</td>\n",
       "      <td>1</td>\n",
       "      <td>11</td>\n",
       "      <td>11.0</td>\n",
       "    </tr>\n",
       "    <tr>\n",
       "      <th>5</th>\n",
       "      <td>2017</td>\n",
       "      <td>dolnośląskie</td>\n",
       "      <td>bolesławiecki</td>\n",
       "      <td>Bolesławiec</td>\n",
       "      <td>Szpital I stopnia</td>\n",
       "      <td>Oddziały Szpitalne i Inne Komórki Opieki Szpit...</td>\n",
       "      <td>Oddział pediatryczny</td>\n",
       "      <td>1</td>\n",
       "      <td>15</td>\n",
       "      <td>15.0</td>\n",
       "    </tr>\n",
       "    <tr>\n",
       "      <th>6</th>\n",
       "      <td>2017</td>\n",
       "      <td>dolnośląskie</td>\n",
       "      <td>bolesławiecki</td>\n",
       "      <td>Bolesławiec</td>\n",
       "      <td>Szpital I stopnia</td>\n",
       "      <td>Oddziały Szpitalne i Inne Komórki Opieki Szpit...</td>\n",
       "      <td>Oddział neonatologiczny</td>\n",
       "      <td>1</td>\n",
       "      <td>12</td>\n",
       "      <td>12.0</td>\n",
       "    </tr>\n",
       "  </tbody>\n",
       "</table>\n",
       "</div>"
      ]
     },
     "execution_count": 28,
     "metadata": {},
     "output_type": "execute_result"
    }
   ],
   "execution_count": 28
  },
  {
   "metadata": {
    "ExecuteTime": {
     "end_time": "2025-08-28T12:55:39.677049Z",
     "start_time": "2025-08-28T12:55:39.649617Z"
    }
   },
   "cell_type": "code",
   "source": "df.query('rodzaj_swiadczen == \"Oddziały Szpitalne i Inne Komórki Opieki Szpitalnej\"')",
   "id": "dec05ce6af640354",
   "outputs": [
    {
     "data": {
      "text/plain": [
       "        rok         wojewodztwo          powiat        gmina  \\\n",
       "1      2017        dolnośląskie   bolesławiecki  Bolesławiec   \n",
       "2      2017        dolnośląskie   bolesławiecki  Bolesławiec   \n",
       "3      2017        dolnośląskie   bolesławiecki  Bolesławiec   \n",
       "4      2017        dolnośląskie   bolesławiecki  Bolesławiec   \n",
       "5      2017        dolnośląskie   bolesławiecki  Bolesławiec   \n",
       "...     ...                 ...             ...          ...   \n",
       "50463  2023  zachodniopomorskie  m. Świnoujście  Świnoujście   \n",
       "50464  2023  zachodniopomorskie  m. Świnoujście  Świnoujście   \n",
       "50465  2023  zachodniopomorskie  m. Świnoujście  Świnoujście   \n",
       "50466  2023  zachodniopomorskie  m. Świnoujście  Świnoujście   \n",
       "50467  2023  zachodniopomorskie  m. Świnoujście  Świnoujście   \n",
       "\n",
       "            poziom_sieci                                   rodzaj_swiadczen  \\\n",
       "1      Szpital I stopnia  Oddziały Szpitalne i Inne Komórki Opieki Szpit...   \n",
       "2      Szpital I stopnia  Oddziały Szpitalne i Inne Komórki Opieki Szpit...   \n",
       "3      Szpital I stopnia  Oddziały Szpitalne i Inne Komórki Opieki Szpit...   \n",
       "4      Szpital I stopnia  Oddziały Szpitalne i Inne Komórki Opieki Szpit...   \n",
       "5      Szpital I stopnia  Oddziały Szpitalne i Inne Komórki Opieki Szpit...   \n",
       "...                  ...                                                ...   \n",
       "50463  Szpital I stopnia  Oddziały Szpitalne i Inne Komórki Opieki Szpit...   \n",
       "50464  Szpital I stopnia  Oddziały Szpitalne i Inne Komórki Opieki Szpit...   \n",
       "50465  Szpital I stopnia  Oddziały Szpitalne i Inne Komórki Opieki Szpit...   \n",
       "50466  Szpital I stopnia  Oddziały Szpitalne i Inne Komórki Opieki Szpit...   \n",
       "50467  Szpital I stopnia  Oddziały Szpitalne i Inne Komórki Opieki Szpit...   \n",
       "\n",
       "                                        specjalnosc  liczba_oddzialow  \\\n",
       "1                       Oddział chorób wewnętrznych                 1   \n",
       "2                             Oddział neurologiczny                 1   \n",
       "3      Oddział anestezjologii i intensywnej terapii                 1   \n",
       "4                          Oddział chorób zakaźnych                 1   \n",
       "5                              Oddział pediatryczny                 1   \n",
       "...                                             ...               ...   \n",
       "50463                   Oddział chorób wewnętrznych                 1   \n",
       "50464  Oddział anestezjologii i intensywnej terapii                 1   \n",
       "50465                   Oddział chirurgiczny ogólny                 1   \n",
       "50466                          Oddział pediatryczny                 1   \n",
       "50467                       Oddział neonatologiczny                 1   \n",
       "\n",
       "       liczba_lozek_na_koniec_roku  srednioroczna_liczba_lozek  \n",
       "1                               31                        31.0  \n",
       "2                               12                        12.0  \n",
       "3                                7                         7.0  \n",
       "4                               11                        11.0  \n",
       "5                               15                        15.0  \n",
       "...                            ...                         ...  \n",
       "50463                           36                        36.0  \n",
       "50464                            4                         4.0  \n",
       "50465                           24                        24.0  \n",
       "50466                           10                        10.0  \n",
       "50467                           10                        10.0  \n",
       "\n",
       "[45272 rows x 10 columns]"
      ],
      "text/html": [
       "<div>\n",
       "<style scoped>\n",
       "    .dataframe tbody tr th:only-of-type {\n",
       "        vertical-align: middle;\n",
       "    }\n",
       "\n",
       "    .dataframe tbody tr th {\n",
       "        vertical-align: top;\n",
       "    }\n",
       "\n",
       "    .dataframe thead th {\n",
       "        text-align: right;\n",
       "    }\n",
       "</style>\n",
       "<table border=\"1\" class=\"dataframe\">\n",
       "  <thead>\n",
       "    <tr style=\"text-align: right;\">\n",
       "      <th></th>\n",
       "      <th>rok</th>\n",
       "      <th>wojewodztwo</th>\n",
       "      <th>powiat</th>\n",
       "      <th>gmina</th>\n",
       "      <th>poziom_sieci</th>\n",
       "      <th>rodzaj_swiadczen</th>\n",
       "      <th>specjalnosc</th>\n",
       "      <th>liczba_oddzialow</th>\n",
       "      <th>liczba_lozek_na_koniec_roku</th>\n",
       "      <th>srednioroczna_liczba_lozek</th>\n",
       "    </tr>\n",
       "  </thead>\n",
       "  <tbody>\n",
       "    <tr>\n",
       "      <th>1</th>\n",
       "      <td>2017</td>\n",
       "      <td>dolnośląskie</td>\n",
       "      <td>bolesławiecki</td>\n",
       "      <td>Bolesławiec</td>\n",
       "      <td>Szpital I stopnia</td>\n",
       "      <td>Oddziały Szpitalne i Inne Komórki Opieki Szpit...</td>\n",
       "      <td>Oddział chorób wewnętrznych</td>\n",
       "      <td>1</td>\n",
       "      <td>31</td>\n",
       "      <td>31.0</td>\n",
       "    </tr>\n",
       "    <tr>\n",
       "      <th>2</th>\n",
       "      <td>2017</td>\n",
       "      <td>dolnośląskie</td>\n",
       "      <td>bolesławiecki</td>\n",
       "      <td>Bolesławiec</td>\n",
       "      <td>Szpital I stopnia</td>\n",
       "      <td>Oddziały Szpitalne i Inne Komórki Opieki Szpit...</td>\n",
       "      <td>Oddział neurologiczny</td>\n",
       "      <td>1</td>\n",
       "      <td>12</td>\n",
       "      <td>12.0</td>\n",
       "    </tr>\n",
       "    <tr>\n",
       "      <th>3</th>\n",
       "      <td>2017</td>\n",
       "      <td>dolnośląskie</td>\n",
       "      <td>bolesławiecki</td>\n",
       "      <td>Bolesławiec</td>\n",
       "      <td>Szpital I stopnia</td>\n",
       "      <td>Oddziały Szpitalne i Inne Komórki Opieki Szpit...</td>\n",
       "      <td>Oddział anestezjologii i intensywnej terapii</td>\n",
       "      <td>1</td>\n",
       "      <td>7</td>\n",
       "      <td>7.0</td>\n",
       "    </tr>\n",
       "    <tr>\n",
       "      <th>4</th>\n",
       "      <td>2017</td>\n",
       "      <td>dolnośląskie</td>\n",
       "      <td>bolesławiecki</td>\n",
       "      <td>Bolesławiec</td>\n",
       "      <td>Szpital I stopnia</td>\n",
       "      <td>Oddziały Szpitalne i Inne Komórki Opieki Szpit...</td>\n",
       "      <td>Oddział chorób zakaźnych</td>\n",
       "      <td>1</td>\n",
       "      <td>11</td>\n",
       "      <td>11.0</td>\n",
       "    </tr>\n",
       "    <tr>\n",
       "      <th>5</th>\n",
       "      <td>2017</td>\n",
       "      <td>dolnośląskie</td>\n",
       "      <td>bolesławiecki</td>\n",
       "      <td>Bolesławiec</td>\n",
       "      <td>Szpital I stopnia</td>\n",
       "      <td>Oddziały Szpitalne i Inne Komórki Opieki Szpit...</td>\n",
       "      <td>Oddział pediatryczny</td>\n",
       "      <td>1</td>\n",
       "      <td>15</td>\n",
       "      <td>15.0</td>\n",
       "    </tr>\n",
       "    <tr>\n",
       "      <th>...</th>\n",
       "      <td>...</td>\n",
       "      <td>...</td>\n",
       "      <td>...</td>\n",
       "      <td>...</td>\n",
       "      <td>...</td>\n",
       "      <td>...</td>\n",
       "      <td>...</td>\n",
       "      <td>...</td>\n",
       "      <td>...</td>\n",
       "      <td>...</td>\n",
       "    </tr>\n",
       "    <tr>\n",
       "      <th>50463</th>\n",
       "      <td>2023</td>\n",
       "      <td>zachodniopomorskie</td>\n",
       "      <td>m. Świnoujście</td>\n",
       "      <td>Świnoujście</td>\n",
       "      <td>Szpital I stopnia</td>\n",
       "      <td>Oddziały Szpitalne i Inne Komórki Opieki Szpit...</td>\n",
       "      <td>Oddział chorób wewnętrznych</td>\n",
       "      <td>1</td>\n",
       "      <td>36</td>\n",
       "      <td>36.0</td>\n",
       "    </tr>\n",
       "    <tr>\n",
       "      <th>50464</th>\n",
       "      <td>2023</td>\n",
       "      <td>zachodniopomorskie</td>\n",
       "      <td>m. Świnoujście</td>\n",
       "      <td>Świnoujście</td>\n",
       "      <td>Szpital I stopnia</td>\n",
       "      <td>Oddziały Szpitalne i Inne Komórki Opieki Szpit...</td>\n",
       "      <td>Oddział anestezjologii i intensywnej terapii</td>\n",
       "      <td>1</td>\n",
       "      <td>4</td>\n",
       "      <td>4.0</td>\n",
       "    </tr>\n",
       "    <tr>\n",
       "      <th>50465</th>\n",
       "      <td>2023</td>\n",
       "      <td>zachodniopomorskie</td>\n",
       "      <td>m. Świnoujście</td>\n",
       "      <td>Świnoujście</td>\n",
       "      <td>Szpital I stopnia</td>\n",
       "      <td>Oddziały Szpitalne i Inne Komórki Opieki Szpit...</td>\n",
       "      <td>Oddział chirurgiczny ogólny</td>\n",
       "      <td>1</td>\n",
       "      <td>24</td>\n",
       "      <td>24.0</td>\n",
       "    </tr>\n",
       "    <tr>\n",
       "      <th>50466</th>\n",
       "      <td>2023</td>\n",
       "      <td>zachodniopomorskie</td>\n",
       "      <td>m. Świnoujście</td>\n",
       "      <td>Świnoujście</td>\n",
       "      <td>Szpital I stopnia</td>\n",
       "      <td>Oddziały Szpitalne i Inne Komórki Opieki Szpit...</td>\n",
       "      <td>Oddział pediatryczny</td>\n",
       "      <td>1</td>\n",
       "      <td>10</td>\n",
       "      <td>10.0</td>\n",
       "    </tr>\n",
       "    <tr>\n",
       "      <th>50467</th>\n",
       "      <td>2023</td>\n",
       "      <td>zachodniopomorskie</td>\n",
       "      <td>m. Świnoujście</td>\n",
       "      <td>Świnoujście</td>\n",
       "      <td>Szpital I stopnia</td>\n",
       "      <td>Oddziały Szpitalne i Inne Komórki Opieki Szpit...</td>\n",
       "      <td>Oddział neonatologiczny</td>\n",
       "      <td>1</td>\n",
       "      <td>10</td>\n",
       "      <td>10.0</td>\n",
       "    </tr>\n",
       "  </tbody>\n",
       "</table>\n",
       "<p>45272 rows × 10 columns</p>\n",
       "</div>"
      ]
     },
     "execution_count": 29,
     "metadata": {},
     "output_type": "execute_result"
    }
   ],
   "execution_count": 29
  },
  {
   "metadata": {
    "ExecuteTime": {
     "end_time": "2025-08-28T12:57:23.958945Z",
     "start_time": "2025-08-28T12:57:23.928299Z"
    }
   },
   "cell_type": "code",
   "source": "df.query('specjalnosc == \"Oddział pediatryczny\"')",
   "id": "5c8363ea58945d8b",
   "outputs": [
    {
     "data": {
      "text/plain": [
       "        rok         wojewodztwo          powiat        gmina  \\\n",
       "5      2017        dolnośląskie   bolesławiecki  Bolesławiec   \n",
       "23     2017        dolnośląskie  dzierżoniowski      Bielawa   \n",
       "38     2017        dolnośląskie       głogowski       Głogów   \n",
       "48     2017        dolnośląskie        jaworski        Jawor   \n",
       "68     2017        dolnośląskie      karkonoski       Kowary   \n",
       "...     ...                 ...             ...          ...   \n",
       "50354  2023  zachodniopomorskie     m. Koszalin     Koszalin   \n",
       "50393  2023  zachodniopomorskie     m. Szczecin     Szczecin   \n",
       "50420  2023  zachodniopomorskie     m. Szczecin     Szczecin   \n",
       "50443  2023  zachodniopomorskie     m. Szczecin     Szczecin   \n",
       "50466  2023  zachodniopomorskie  m. Świnoujście  Świnoujście   \n",
       "\n",
       "               poziom_sieci  \\\n",
       "5         Szpital I stopnia   \n",
       "23        Szpital I stopnia   \n",
       "38        Szpital I stopnia   \n",
       "48        Szpital I stopnia   \n",
       "68        Szpital I stopnia   \n",
       "...                     ...   \n",
       "50354   Szpital III stopnia   \n",
       "50393   Szpital III stopnia   \n",
       "50420  Szpital pediatryczny   \n",
       "50443  Szpital ogólnopolski   \n",
       "50466     Szpital I stopnia   \n",
       "\n",
       "                                        rodzaj_swiadczen  \\\n",
       "5      Oddziały Szpitalne i Inne Komórki Opieki Szpit...   \n",
       "23     Oddziały Szpitalne i Inne Komórki Opieki Szpit...   \n",
       "38     Oddziały Szpitalne i Inne Komórki Opieki Szpit...   \n",
       "48     Oddziały Szpitalne i Inne Komórki Opieki Szpit...   \n",
       "68     Oddziały Szpitalne i Inne Komórki Opieki Szpit...   \n",
       "...                                                  ...   \n",
       "50354  Oddziały Szpitalne i Inne Komórki Opieki Szpit...   \n",
       "50393  Oddziały Szpitalne i Inne Komórki Opieki Szpit...   \n",
       "50420  Oddziały Szpitalne i Inne Komórki Opieki Szpit...   \n",
       "50443  Oddziały Szpitalne i Inne Komórki Opieki Szpit...   \n",
       "50466  Oddziały Szpitalne i Inne Komórki Opieki Szpit...   \n",
       "\n",
       "                specjalnosc  liczba_oddzialow  liczba_lozek_na_koniec_roku  \\\n",
       "5      Oddział pediatryczny                 1                           15   \n",
       "23     Oddział pediatryczny                 1                           21   \n",
       "38     Oddział pediatryczny                 1                           18   \n",
       "48     Oddział pediatryczny                 1                           15   \n",
       "68     Oddział pediatryczny                 1                           14   \n",
       "...                     ...               ...                          ...   \n",
       "50354  Oddział pediatryczny                 1                           35   \n",
       "50393  Oddział pediatryczny                 1                            5   \n",
       "50420  Oddział pediatryczny                 2                           43   \n",
       "50443  Oddział pediatryczny                 3                           66   \n",
       "50466  Oddział pediatryczny                 1                           10   \n",
       "\n",
       "       srednioroczna_liczba_lozek  \n",
       "5                            15.0  \n",
       "23                           21.0  \n",
       "38                           18.0  \n",
       "48                           15.0  \n",
       "68                           14.0  \n",
       "...                           ...  \n",
       "50354                        35.0  \n",
       "50393                         5.0  \n",
       "50420                        47.0  \n",
       "50443                        69.0  \n",
       "50466                        10.0  \n",
       "\n",
       "[2286 rows x 10 columns]"
      ],
      "text/html": [
       "<div>\n",
       "<style scoped>\n",
       "    .dataframe tbody tr th:only-of-type {\n",
       "        vertical-align: middle;\n",
       "    }\n",
       "\n",
       "    .dataframe tbody tr th {\n",
       "        vertical-align: top;\n",
       "    }\n",
       "\n",
       "    .dataframe thead th {\n",
       "        text-align: right;\n",
       "    }\n",
       "</style>\n",
       "<table border=\"1\" class=\"dataframe\">\n",
       "  <thead>\n",
       "    <tr style=\"text-align: right;\">\n",
       "      <th></th>\n",
       "      <th>rok</th>\n",
       "      <th>wojewodztwo</th>\n",
       "      <th>powiat</th>\n",
       "      <th>gmina</th>\n",
       "      <th>poziom_sieci</th>\n",
       "      <th>rodzaj_swiadczen</th>\n",
       "      <th>specjalnosc</th>\n",
       "      <th>liczba_oddzialow</th>\n",
       "      <th>liczba_lozek_na_koniec_roku</th>\n",
       "      <th>srednioroczna_liczba_lozek</th>\n",
       "    </tr>\n",
       "  </thead>\n",
       "  <tbody>\n",
       "    <tr>\n",
       "      <th>5</th>\n",
       "      <td>2017</td>\n",
       "      <td>dolnośląskie</td>\n",
       "      <td>bolesławiecki</td>\n",
       "      <td>Bolesławiec</td>\n",
       "      <td>Szpital I stopnia</td>\n",
       "      <td>Oddziały Szpitalne i Inne Komórki Opieki Szpit...</td>\n",
       "      <td>Oddział pediatryczny</td>\n",
       "      <td>1</td>\n",
       "      <td>15</td>\n",
       "      <td>15.0</td>\n",
       "    </tr>\n",
       "    <tr>\n",
       "      <th>23</th>\n",
       "      <td>2017</td>\n",
       "      <td>dolnośląskie</td>\n",
       "      <td>dzierżoniowski</td>\n",
       "      <td>Bielawa</td>\n",
       "      <td>Szpital I stopnia</td>\n",
       "      <td>Oddziały Szpitalne i Inne Komórki Opieki Szpit...</td>\n",
       "      <td>Oddział pediatryczny</td>\n",
       "      <td>1</td>\n",
       "      <td>21</td>\n",
       "      <td>21.0</td>\n",
       "    </tr>\n",
       "    <tr>\n",
       "      <th>38</th>\n",
       "      <td>2017</td>\n",
       "      <td>dolnośląskie</td>\n",
       "      <td>głogowski</td>\n",
       "      <td>Głogów</td>\n",
       "      <td>Szpital I stopnia</td>\n",
       "      <td>Oddziały Szpitalne i Inne Komórki Opieki Szpit...</td>\n",
       "      <td>Oddział pediatryczny</td>\n",
       "      <td>1</td>\n",
       "      <td>18</td>\n",
       "      <td>18.0</td>\n",
       "    </tr>\n",
       "    <tr>\n",
       "      <th>48</th>\n",
       "      <td>2017</td>\n",
       "      <td>dolnośląskie</td>\n",
       "      <td>jaworski</td>\n",
       "      <td>Jawor</td>\n",
       "      <td>Szpital I stopnia</td>\n",
       "      <td>Oddziały Szpitalne i Inne Komórki Opieki Szpit...</td>\n",
       "      <td>Oddział pediatryczny</td>\n",
       "      <td>1</td>\n",
       "      <td>15</td>\n",
       "      <td>15.0</td>\n",
       "    </tr>\n",
       "    <tr>\n",
       "      <th>68</th>\n",
       "      <td>2017</td>\n",
       "      <td>dolnośląskie</td>\n",
       "      <td>karkonoski</td>\n",
       "      <td>Kowary</td>\n",
       "      <td>Szpital I stopnia</td>\n",
       "      <td>Oddziały Szpitalne i Inne Komórki Opieki Szpit...</td>\n",
       "      <td>Oddział pediatryczny</td>\n",
       "      <td>1</td>\n",
       "      <td>14</td>\n",
       "      <td>14.0</td>\n",
       "    </tr>\n",
       "    <tr>\n",
       "      <th>...</th>\n",
       "      <td>...</td>\n",
       "      <td>...</td>\n",
       "      <td>...</td>\n",
       "      <td>...</td>\n",
       "      <td>...</td>\n",
       "      <td>...</td>\n",
       "      <td>...</td>\n",
       "      <td>...</td>\n",
       "      <td>...</td>\n",
       "      <td>...</td>\n",
       "    </tr>\n",
       "    <tr>\n",
       "      <th>50354</th>\n",
       "      <td>2023</td>\n",
       "      <td>zachodniopomorskie</td>\n",
       "      <td>m. Koszalin</td>\n",
       "      <td>Koszalin</td>\n",
       "      <td>Szpital III stopnia</td>\n",
       "      <td>Oddziały Szpitalne i Inne Komórki Opieki Szpit...</td>\n",
       "      <td>Oddział pediatryczny</td>\n",
       "      <td>1</td>\n",
       "      <td>35</td>\n",
       "      <td>35.0</td>\n",
       "    </tr>\n",
       "    <tr>\n",
       "      <th>50393</th>\n",
       "      <td>2023</td>\n",
       "      <td>zachodniopomorskie</td>\n",
       "      <td>m. Szczecin</td>\n",
       "      <td>Szczecin</td>\n",
       "      <td>Szpital III stopnia</td>\n",
       "      <td>Oddziały Szpitalne i Inne Komórki Opieki Szpit...</td>\n",
       "      <td>Oddział pediatryczny</td>\n",
       "      <td>1</td>\n",
       "      <td>5</td>\n",
       "      <td>5.0</td>\n",
       "    </tr>\n",
       "    <tr>\n",
       "      <th>50420</th>\n",
       "      <td>2023</td>\n",
       "      <td>zachodniopomorskie</td>\n",
       "      <td>m. Szczecin</td>\n",
       "      <td>Szczecin</td>\n",
       "      <td>Szpital pediatryczny</td>\n",
       "      <td>Oddziały Szpitalne i Inne Komórki Opieki Szpit...</td>\n",
       "      <td>Oddział pediatryczny</td>\n",
       "      <td>2</td>\n",
       "      <td>43</td>\n",
       "      <td>47.0</td>\n",
       "    </tr>\n",
       "    <tr>\n",
       "      <th>50443</th>\n",
       "      <td>2023</td>\n",
       "      <td>zachodniopomorskie</td>\n",
       "      <td>m. Szczecin</td>\n",
       "      <td>Szczecin</td>\n",
       "      <td>Szpital ogólnopolski</td>\n",
       "      <td>Oddziały Szpitalne i Inne Komórki Opieki Szpit...</td>\n",
       "      <td>Oddział pediatryczny</td>\n",
       "      <td>3</td>\n",
       "      <td>66</td>\n",
       "      <td>69.0</td>\n",
       "    </tr>\n",
       "    <tr>\n",
       "      <th>50466</th>\n",
       "      <td>2023</td>\n",
       "      <td>zachodniopomorskie</td>\n",
       "      <td>m. Świnoujście</td>\n",
       "      <td>Świnoujście</td>\n",
       "      <td>Szpital I stopnia</td>\n",
       "      <td>Oddziały Szpitalne i Inne Komórki Opieki Szpit...</td>\n",
       "      <td>Oddział pediatryczny</td>\n",
       "      <td>1</td>\n",
       "      <td>10</td>\n",
       "      <td>10.0</td>\n",
       "    </tr>\n",
       "  </tbody>\n",
       "</table>\n",
       "<p>2286 rows × 10 columns</p>\n",
       "</div>"
      ]
     },
     "execution_count": 30,
     "metadata": {},
     "output_type": "execute_result"
    }
   ],
   "execution_count": 30
  },
  {
   "metadata": {
    "ExecuteTime": {
     "end_time": "2025-08-28T13:05:55.039759Z",
     "start_time": "2025-08-28T13:05:55.002142Z"
    }
   },
   "cell_type": "code",
   "source": "df.query('poziom_sieci == \"Szpital III stopnia\" & liczba_lozek_na_koniec_roku < 150 & liczba_oddzialow != 1')",
   "id": "5391721019b16159",
   "outputs": [
    {
     "data": {
      "text/plain": [
       "        rok         wojewodztwo       powiat     gmina         poziom_sieci  \\\n",
       "508    2017        dolnośląskie   m. Wrocław   Wrocław  Szpital III stopnia   \n",
       "509    2017        dolnośląskie   m. Wrocław   Wrocław  Szpital III stopnia   \n",
       "510    2017        dolnośląskie   m. Wrocław   Wrocław  Szpital III stopnia   \n",
       "512    2017        dolnośląskie   m. Wrocław   Wrocław  Szpital III stopnia   \n",
       "513    2017        dolnośląskie   m. Wrocław   Wrocław  Szpital III stopnia   \n",
       "...     ...                 ...          ...       ...                  ...   \n",
       "50396  2023  zachodniopomorskie  m. Szczecin  Szczecin  Szpital III stopnia   \n",
       "50401  2023  zachodniopomorskie  m. Szczecin  Szczecin  Szpital III stopnia   \n",
       "50410  2023  zachodniopomorskie  m. Szczecin  Szczecin  Szpital III stopnia   \n",
       "50414  2023  zachodniopomorskie  m. Szczecin  Szczecin  Szpital III stopnia   \n",
       "50416  2023  zachodniopomorskie  m. Szczecin  Szczecin  Szpital III stopnia   \n",
       "\n",
       "                                        rodzaj_swiadczen  \\\n",
       "508    Oddziały Szpitalne i Inne Komórki Opieki Szpit...   \n",
       "509    Oddziały Szpitalne i Inne Komórki Opieki Szpit...   \n",
       "510    Oddziały Szpitalne i Inne Komórki Opieki Szpit...   \n",
       "512    Oddziały Szpitalne i Inne Komórki Opieki Szpit...   \n",
       "513    Oddziały Szpitalne i Inne Komórki Opieki Szpit...   \n",
       "...                                                  ...   \n",
       "50396  Oddziały Szpitalne i Inne Komórki Opieki Szpit...   \n",
       "50401  Oddziały Szpitalne i Inne Komórki Opieki Szpit...   \n",
       "50410  Oddziały Szpitalne i Inne Komórki Opieki Szpit...   \n",
       "50414  Oddziały Szpitalne i Inne Komórki Opieki Szpit...   \n",
       "50416  Oddziały Szpitalne i Inne Komórki Opieki Szpit...   \n",
       "\n",
       "                                        specjalnosc  liczba_oddzialow  \\\n",
       "508                             Oddział urologiczny                 2   \n",
       "509    Oddział anestezjologii i intensywnej terapii                 4   \n",
       "510                     Oddział chirurgiczny ogólny                 3   \n",
       "512                Oddział neurologiczny dla dzieci                 3   \n",
       "513       Oddział chirurgii urazowo - ortopedycznej                 3   \n",
       "...                                             ...               ...   \n",
       "50396                   Szpitalny oddział ratunkowy                 2   \n",
       "50401                      Oddział chorób zakaźnych                 2   \n",
       "50410                   Oddział chirurgiczny ogólny                 2   \n",
       "50414                Oddział gruźlicy i chorób płuc                 2   \n",
       "50416     Oddział chirurgii urazowo - ortopedycznej                 2   \n",
       "\n",
       "       liczba_lozek_na_koniec_roku  srednioroczna_liczba_lozek  \n",
       "508                             62                        62.0  \n",
       "509                             43                        43.0  \n",
       "510                            112                       112.0  \n",
       "512                             66                        66.0  \n",
       "513                            103                       103.0  \n",
       "...                            ...                         ...  \n",
       "50396                           17                        17.0  \n",
       "50401                           50                        70.0  \n",
       "50410                           92                        92.0  \n",
       "50414                          135                       135.0  \n",
       "50416                           82                        82.0  \n",
       "\n",
       "[797 rows x 10 columns]"
      ],
      "text/html": [
       "<div>\n",
       "<style scoped>\n",
       "    .dataframe tbody tr th:only-of-type {\n",
       "        vertical-align: middle;\n",
       "    }\n",
       "\n",
       "    .dataframe tbody tr th {\n",
       "        vertical-align: top;\n",
       "    }\n",
       "\n",
       "    .dataframe thead th {\n",
       "        text-align: right;\n",
       "    }\n",
       "</style>\n",
       "<table border=\"1\" class=\"dataframe\">\n",
       "  <thead>\n",
       "    <tr style=\"text-align: right;\">\n",
       "      <th></th>\n",
       "      <th>rok</th>\n",
       "      <th>wojewodztwo</th>\n",
       "      <th>powiat</th>\n",
       "      <th>gmina</th>\n",
       "      <th>poziom_sieci</th>\n",
       "      <th>rodzaj_swiadczen</th>\n",
       "      <th>specjalnosc</th>\n",
       "      <th>liczba_oddzialow</th>\n",
       "      <th>liczba_lozek_na_koniec_roku</th>\n",
       "      <th>srednioroczna_liczba_lozek</th>\n",
       "    </tr>\n",
       "  </thead>\n",
       "  <tbody>\n",
       "    <tr>\n",
       "      <th>508</th>\n",
       "      <td>2017</td>\n",
       "      <td>dolnośląskie</td>\n",
       "      <td>m. Wrocław</td>\n",
       "      <td>Wrocław</td>\n",
       "      <td>Szpital III stopnia</td>\n",
       "      <td>Oddziały Szpitalne i Inne Komórki Opieki Szpit...</td>\n",
       "      <td>Oddział urologiczny</td>\n",
       "      <td>2</td>\n",
       "      <td>62</td>\n",
       "      <td>62.0</td>\n",
       "    </tr>\n",
       "    <tr>\n",
       "      <th>509</th>\n",
       "      <td>2017</td>\n",
       "      <td>dolnośląskie</td>\n",
       "      <td>m. Wrocław</td>\n",
       "      <td>Wrocław</td>\n",
       "      <td>Szpital III stopnia</td>\n",
       "      <td>Oddziały Szpitalne i Inne Komórki Opieki Szpit...</td>\n",
       "      <td>Oddział anestezjologii i intensywnej terapii</td>\n",
       "      <td>4</td>\n",
       "      <td>43</td>\n",
       "      <td>43.0</td>\n",
       "    </tr>\n",
       "    <tr>\n",
       "      <th>510</th>\n",
       "      <td>2017</td>\n",
       "      <td>dolnośląskie</td>\n",
       "      <td>m. Wrocław</td>\n",
       "      <td>Wrocław</td>\n",
       "      <td>Szpital III stopnia</td>\n",
       "      <td>Oddziały Szpitalne i Inne Komórki Opieki Szpit...</td>\n",
       "      <td>Oddział chirurgiczny ogólny</td>\n",
       "      <td>3</td>\n",
       "      <td>112</td>\n",
       "      <td>112.0</td>\n",
       "    </tr>\n",
       "    <tr>\n",
       "      <th>512</th>\n",
       "      <td>2017</td>\n",
       "      <td>dolnośląskie</td>\n",
       "      <td>m. Wrocław</td>\n",
       "      <td>Wrocław</td>\n",
       "      <td>Szpital III stopnia</td>\n",
       "      <td>Oddziały Szpitalne i Inne Komórki Opieki Szpit...</td>\n",
       "      <td>Oddział neurologiczny dla dzieci</td>\n",
       "      <td>3</td>\n",
       "      <td>66</td>\n",
       "      <td>66.0</td>\n",
       "    </tr>\n",
       "    <tr>\n",
       "      <th>513</th>\n",
       "      <td>2017</td>\n",
       "      <td>dolnośląskie</td>\n",
       "      <td>m. Wrocław</td>\n",
       "      <td>Wrocław</td>\n",
       "      <td>Szpital III stopnia</td>\n",
       "      <td>Oddziały Szpitalne i Inne Komórki Opieki Szpit...</td>\n",
       "      <td>Oddział chirurgii urazowo - ortopedycznej</td>\n",
       "      <td>3</td>\n",
       "      <td>103</td>\n",
       "      <td>103.0</td>\n",
       "    </tr>\n",
       "    <tr>\n",
       "      <th>...</th>\n",
       "      <td>...</td>\n",
       "      <td>...</td>\n",
       "      <td>...</td>\n",
       "      <td>...</td>\n",
       "      <td>...</td>\n",
       "      <td>...</td>\n",
       "      <td>...</td>\n",
       "      <td>...</td>\n",
       "      <td>...</td>\n",
       "      <td>...</td>\n",
       "    </tr>\n",
       "    <tr>\n",
       "      <th>50396</th>\n",
       "      <td>2023</td>\n",
       "      <td>zachodniopomorskie</td>\n",
       "      <td>m. Szczecin</td>\n",
       "      <td>Szczecin</td>\n",
       "      <td>Szpital III stopnia</td>\n",
       "      <td>Oddziały Szpitalne i Inne Komórki Opieki Szpit...</td>\n",
       "      <td>Szpitalny oddział ratunkowy</td>\n",
       "      <td>2</td>\n",
       "      <td>17</td>\n",
       "      <td>17.0</td>\n",
       "    </tr>\n",
       "    <tr>\n",
       "      <th>50401</th>\n",
       "      <td>2023</td>\n",
       "      <td>zachodniopomorskie</td>\n",
       "      <td>m. Szczecin</td>\n",
       "      <td>Szczecin</td>\n",
       "      <td>Szpital III stopnia</td>\n",
       "      <td>Oddziały Szpitalne i Inne Komórki Opieki Szpit...</td>\n",
       "      <td>Oddział chorób zakaźnych</td>\n",
       "      <td>2</td>\n",
       "      <td>50</td>\n",
       "      <td>70.0</td>\n",
       "    </tr>\n",
       "    <tr>\n",
       "      <th>50410</th>\n",
       "      <td>2023</td>\n",
       "      <td>zachodniopomorskie</td>\n",
       "      <td>m. Szczecin</td>\n",
       "      <td>Szczecin</td>\n",
       "      <td>Szpital III stopnia</td>\n",
       "      <td>Oddziały Szpitalne i Inne Komórki Opieki Szpit...</td>\n",
       "      <td>Oddział chirurgiczny ogólny</td>\n",
       "      <td>2</td>\n",
       "      <td>92</td>\n",
       "      <td>92.0</td>\n",
       "    </tr>\n",
       "    <tr>\n",
       "      <th>50414</th>\n",
       "      <td>2023</td>\n",
       "      <td>zachodniopomorskie</td>\n",
       "      <td>m. Szczecin</td>\n",
       "      <td>Szczecin</td>\n",
       "      <td>Szpital III stopnia</td>\n",
       "      <td>Oddziały Szpitalne i Inne Komórki Opieki Szpit...</td>\n",
       "      <td>Oddział gruźlicy i chorób płuc</td>\n",
       "      <td>2</td>\n",
       "      <td>135</td>\n",
       "      <td>135.0</td>\n",
       "    </tr>\n",
       "    <tr>\n",
       "      <th>50416</th>\n",
       "      <td>2023</td>\n",
       "      <td>zachodniopomorskie</td>\n",
       "      <td>m. Szczecin</td>\n",
       "      <td>Szczecin</td>\n",
       "      <td>Szpital III stopnia</td>\n",
       "      <td>Oddziały Szpitalne i Inne Komórki Opieki Szpit...</td>\n",
       "      <td>Oddział chirurgii urazowo - ortopedycznej</td>\n",
       "      <td>2</td>\n",
       "      <td>82</td>\n",
       "      <td>82.0</td>\n",
       "    </tr>\n",
       "  </tbody>\n",
       "</table>\n",
       "<p>797 rows × 10 columns</p>\n",
       "</div>"
      ]
     },
     "execution_count": 39,
     "metadata": {},
     "output_type": "execute_result"
    }
   ],
   "execution_count": 39
  },
  {
   "metadata": {
    "ExecuteTime": {
     "end_time": "2025-08-28T13:11:44.530139Z",
     "start_time": "2025-08-28T13:11:44.517115Z"
    }
   },
   "cell_type": "code",
   "source": "df.columns\n",
   "id": "9a7c2f8d72794a9a",
   "outputs": [
    {
     "data": {
      "text/plain": [
       "Index(['rok', 'wojewodztwo', 'powiat', 'gmina', 'poziom_sieci',\n",
       "       'rodzaj_swiadczen', 'specjalnosc', 'liczba_oddzialow',\n",
       "       'liczba_lozek_na_koniec_roku', 'srednioroczna_liczba_lozek'],\n",
       "      dtype='object')"
      ]
     },
     "execution_count": 40,
     "metadata": {},
     "output_type": "execute_result"
    }
   ],
   "execution_count": 40
  },
  {
   "metadata": {
    "ExecuteTime": {
     "end_time": "2025-08-28T13:12:48.225480Z",
     "start_time": "2025-08-28T13:12:48.168002Z"
    }
   },
   "cell_type": "code",
   "source": "df.duplicated(subset=['rok', 'wojewodztwo', 'powiat', 'gmina', 'poziom_sieci', 'rodzaj_swiadczen', 'specjalnosc']).sum()",
   "id": "355d78ab139553c8",
   "outputs": [
    {
     "data": {
      "text/plain": [
       "np.int64(0)"
      ]
     },
     "execution_count": 42,
     "metadata": {},
     "output_type": "execute_result"
    }
   ],
   "execution_count": 42
  },
  {
   "metadata": {},
   "cell_type": "markdown",
   "source": "there is no hospital that occurs twice",
   "id": "c503a707c97552a4"
  },
  {
   "metadata": {
    "ExecuteTime": {
     "end_time": "2025-08-28T13:14:44.363086Z",
     "start_time": "2025-08-28T13:14:44.301404Z"
    }
   },
   "cell_type": "code",
   "outputs": [
    {
     "data": {
      "text/plain": [
       "np.int64(-1)"
      ]
     },
     "execution_count": 43,
     "metadata": {},
     "output_type": "execute_result"
    }
   ],
   "execution_count": 43,
   "source": [
    "# otherwise we would do this to drop duplicates\n",
    "# df.loc[~df.duplicated(subset=['rok', 'wojewodztwo', 'powiat', 'gmina', 'poziom_sieci', 'rodzaj_swiadczen', 'specjalnosc'])]"
   ],
   "id": "561114f5097085c8"
  },
  {
   "metadata": {},
   "cell_type": "markdown",
   "source": "reset the index after removing all the rows",
   "id": "7a8df383f035032a"
  },
  {
   "metadata": {
    "ExecuteTime": {
     "end_time": "2025-08-28T13:23:11.202896Z",
     "start_time": "2025-08-28T13:23:11.165157Z"
    }
   },
   "cell_type": "code",
   "source": "df = df.reset_index(drop=True).copy()",
   "id": "346629ddd9b78f67",
   "outputs": [],
   "execution_count": 47
  },
  {
   "metadata": {
    "ExecuteTime": {
     "end_time": "2025-08-28T13:23:12.195536Z",
     "start_time": "2025-08-28T13:23:12.181114Z"
    }
   },
   "cell_type": "code",
   "source": "df.shape",
   "id": "c788081b840e8bba",
   "outputs": [
    {
     "data": {
      "text/plain": [
       "(51053, 10)"
      ]
     },
     "execution_count": 48,
     "metadata": {},
     "output_type": "execute_result"
    }
   ],
   "execution_count": 48
  },
  {
   "metadata": {
    "ExecuteTime": {
     "end_time": "2025-08-28T13:23:13.649110Z",
     "start_time": "2025-08-28T13:23:13.629835Z"
    }
   },
   "cell_type": "code",
   "source": "df.tail()",
   "id": "f6b0e03f96f786a1",
   "outputs": [
    {
     "data": {
      "text/plain": [
       "        rok         wojewodztwo       powiat     gmina          poziom_sieci  \\\n",
       "51048  2023            opolskie     m. Opole     Opole           Poza siecią   \n",
       "51049  2023             śląskie  m. Katowice  Katowice  Szpital onkologiczny   \n",
       "51050  2023       wielkopolskie    m. Poznań    Poznań  Szpital onkologiczny   \n",
       "51051  2023       wielkopolskie    m. Poznań    Poznań  Szpital ogólnopolski   \n",
       "51052  2023  zachodniopomorskie  m. Szczecin  Szczecin  Szpital ogólnopolski   \n",
       "\n",
       "                                        rodzaj_swiadczen  \\\n",
       "51048  Inne Komórki Organizacyjne Działalnosci Medycznej   \n",
       "51049  Inne Komórki Organizacyjne Działalnosci Medycznej   \n",
       "51050  Inne Komórki Organizacyjne Działalnosci Medycznej   \n",
       "51051  Inne Komórki Organizacyjne Działalnosci Medycznej   \n",
       "51052  Inne Komórki Organizacyjne Działalnosci Medycznej   \n",
       "\n",
       "                                             specjalnosc  liczba_oddzialow  \\\n",
       "51048  Inna i nieokreślona komórka działalności medyc...                 1   \n",
       "51049  Inna i nieokreślona komórka działalności medyc...                 1   \n",
       "51050  Inna i nieokreślona komórka działalności medyc...                 1   \n",
       "51051  Inna i nieokreślona komórka działalności medyc...                 1   \n",
       "51052  Inna i nieokreślona komórka działalności medyc...                 1   \n",
       "\n",
       "       liczba_lozek_na_koniec_roku  srednioroczna_liczba_lozek  \n",
       "51048                           26                        26.0  \n",
       "51049                            5                         5.0  \n",
       "51050                            5                         5.0  \n",
       "51051                            0                         0.0  \n",
       "51052                           10                         5.0  "
      ],
      "text/html": [
       "<div>\n",
       "<style scoped>\n",
       "    .dataframe tbody tr th:only-of-type {\n",
       "        vertical-align: middle;\n",
       "    }\n",
       "\n",
       "    .dataframe tbody tr th {\n",
       "        vertical-align: top;\n",
       "    }\n",
       "\n",
       "    .dataframe thead th {\n",
       "        text-align: right;\n",
       "    }\n",
       "</style>\n",
       "<table border=\"1\" class=\"dataframe\">\n",
       "  <thead>\n",
       "    <tr style=\"text-align: right;\">\n",
       "      <th></th>\n",
       "      <th>rok</th>\n",
       "      <th>wojewodztwo</th>\n",
       "      <th>powiat</th>\n",
       "      <th>gmina</th>\n",
       "      <th>poziom_sieci</th>\n",
       "      <th>rodzaj_swiadczen</th>\n",
       "      <th>specjalnosc</th>\n",
       "      <th>liczba_oddzialow</th>\n",
       "      <th>liczba_lozek_na_koniec_roku</th>\n",
       "      <th>srednioroczna_liczba_lozek</th>\n",
       "    </tr>\n",
       "  </thead>\n",
       "  <tbody>\n",
       "    <tr>\n",
       "      <th>51048</th>\n",
       "      <td>2023</td>\n",
       "      <td>opolskie</td>\n",
       "      <td>m. Opole</td>\n",
       "      <td>Opole</td>\n",
       "      <td>Poza siecią</td>\n",
       "      <td>Inne Komórki Organizacyjne Działalnosci Medycznej</td>\n",
       "      <td>Inna i nieokreślona komórka działalności medyc...</td>\n",
       "      <td>1</td>\n",
       "      <td>26</td>\n",
       "      <td>26.0</td>\n",
       "    </tr>\n",
       "    <tr>\n",
       "      <th>51049</th>\n",
       "      <td>2023</td>\n",
       "      <td>śląskie</td>\n",
       "      <td>m. Katowice</td>\n",
       "      <td>Katowice</td>\n",
       "      <td>Szpital onkologiczny</td>\n",
       "      <td>Inne Komórki Organizacyjne Działalnosci Medycznej</td>\n",
       "      <td>Inna i nieokreślona komórka działalności medyc...</td>\n",
       "      <td>1</td>\n",
       "      <td>5</td>\n",
       "      <td>5.0</td>\n",
       "    </tr>\n",
       "    <tr>\n",
       "      <th>51050</th>\n",
       "      <td>2023</td>\n",
       "      <td>wielkopolskie</td>\n",
       "      <td>m. Poznań</td>\n",
       "      <td>Poznań</td>\n",
       "      <td>Szpital onkologiczny</td>\n",
       "      <td>Inne Komórki Organizacyjne Działalnosci Medycznej</td>\n",
       "      <td>Inna i nieokreślona komórka działalności medyc...</td>\n",
       "      <td>1</td>\n",
       "      <td>5</td>\n",
       "      <td>5.0</td>\n",
       "    </tr>\n",
       "    <tr>\n",
       "      <th>51051</th>\n",
       "      <td>2023</td>\n",
       "      <td>wielkopolskie</td>\n",
       "      <td>m. Poznań</td>\n",
       "      <td>Poznań</td>\n",
       "      <td>Szpital ogólnopolski</td>\n",
       "      <td>Inne Komórki Organizacyjne Działalnosci Medycznej</td>\n",
       "      <td>Inna i nieokreślona komórka działalności medyc...</td>\n",
       "      <td>1</td>\n",
       "      <td>0</td>\n",
       "      <td>0.0</td>\n",
       "    </tr>\n",
       "    <tr>\n",
       "      <th>51052</th>\n",
       "      <td>2023</td>\n",
       "      <td>zachodniopomorskie</td>\n",
       "      <td>m. Szczecin</td>\n",
       "      <td>Szczecin</td>\n",
       "      <td>Szpital ogólnopolski</td>\n",
       "      <td>Inne Komórki Organizacyjne Działalnosci Medycznej</td>\n",
       "      <td>Inna i nieokreślona komórka działalności medyc...</td>\n",
       "      <td>1</td>\n",
       "      <td>10</td>\n",
       "      <td>5.0</td>\n",
       "    </tr>\n",
       "  </tbody>\n",
       "</table>\n",
       "</div>"
      ]
     },
     "execution_count": 49,
     "metadata": {},
     "output_type": "execute_result"
    }
   ],
   "execution_count": 49
  },
  {
   "metadata": {},
   "cell_type": "markdown",
   "source": [
    "# 3. Feature understanding\n",
    "\n",
    "(also known as Univariate analysis)\n",
    "\n",
    "Plotting feature distributions\n",
    "- histogram\n",
    "- kde\n",
    "- boxplot"
   ],
   "id": "5eec56a692198d63"
  },
  {
   "metadata": {
    "ExecuteTime": {
     "end_time": "2025-08-28T14:08:58.748502Z",
     "start_time": "2025-08-28T14:08:58.743277Z"
    }
   },
   "cell_type": "code",
   "source": "df.columns",
   "id": "eb42cbee3e10275b",
   "outputs": [
    {
     "data": {
      "text/plain": [
       "Index(['rok', 'wojewodztwo', 'powiat', 'gmina', 'poziom_sieci',\n",
       "       'rodzaj_swiadczen', 'specjalnosc', 'liczba_oddzialow',\n",
       "       'liczba_lozek_na_koniec_roku', 'srednioroczna_liczba_lozek'],\n",
       "      dtype='object')"
      ]
     },
     "execution_count": 50,
     "metadata": {},
     "output_type": "execute_result"
    }
   ],
   "execution_count": 50
  },
  {
   "metadata": {
    "ExecuteTime": {
     "end_time": "2025-08-28T14:09:31.082061Z",
     "start_time": "2025-08-28T14:09:31.055405Z"
    }
   },
   "cell_type": "code",
   "source": "df['poziom_sieci'].value_counts()",
   "id": "c7d2e85d34ca6949",
   "outputs": [
    {
     "data": {
      "text/plain": [
       "poziom_sieci\n",
       "Szpital I stopnia                                                    13982\n",
       "Poza siecią                                                          12177\n",
       "Szpital II stopnia                                                    8580\n",
       "Szpital III stopnia                                                   7933\n",
       "Szpital ogólnopolski                                                  5712\n",
       "Szpital pulmonologiczny                                                905\n",
       "Szpital onkologiczny                                                   875\n",
       "Szpital pediatryczny                                                   696\n",
       "Szpital II stopnia, szpital onkologiczny, szpital pulmonologiczny      125\n",
       "Szpital II stopnia, szpital III stopnia                                 52\n",
       "Szpital II stopnia, szpital onkologiczny                                16\n",
       "Name: count, dtype: int64"
      ]
     },
     "execution_count": 51,
     "metadata": {},
     "output_type": "execute_result"
    }
   ],
   "execution_count": 51
  },
  {
   "metadata": {
    "ExecuteTime": {
     "end_time": "2025-08-28T14:10:57.407583Z",
     "start_time": "2025-08-28T14:10:57.398987Z"
    }
   },
   "cell_type": "code",
   "source": "df['rodzaj_swiadczen'].value_counts()",
   "id": "dc6e9121336b44cc",
   "outputs": [
    {
     "data": {
      "text/plain": [
       "rodzaj_swiadczen\n",
       "Oddziały Szpitalne i Inne Komórki Opieki Szpitalnej        45272\n",
       "Zakłady Opiekuńczo-Lecznicze i Pielęgnacyjno-Opiekuńcze     3633\n",
       "Ośrodki (Zespoły) Opieki Pozaszpitalnej                     1046\n",
       "Jednostki Lecznictwa Uzdrowiskowego                          978\n",
       "Inne Komórki Organizacyjne Działalnosci Medycznej             81\n",
       "Pomoc Doraźna i Ratownictwo Medyczne                          40\n",
       "Pracownie Diagnostyczne Lub Zabiegowe                          3\n",
       "Name: count, dtype: int64"
      ]
     },
     "execution_count": 52,
     "metadata": {},
     "output_type": "execute_result"
    }
   ],
   "execution_count": 52
  },
  {
   "metadata": {
    "ExecuteTime": {
     "end_time": "2025-08-28T14:11:27.535356Z",
     "start_time": "2025-08-28T14:11:27.518812Z"
    }
   },
   "cell_type": "code",
   "source": "df['specjalnosc'].value_counts()",
   "id": "7899e72a5dff1eef",
   "outputs": [
    {
     "data": {
      "text/plain": [
       "specjalnosc\n",
       "Oddział chorób wewnętrznych                     2983\n",
       "Oddział chirurgiczny ogólny                     2892\n",
       "Oddział anestezjologii i intensywnej terapii    2561\n",
       "Oddział położniczo-ginekologiczny               2425\n",
       "Oddział pediatryczny                            2286\n",
       "                                                ... \n",
       "Oddział angiologiczny dla dzieci                   1\n",
       "Oddział leczenia gruźlicy dla dzieci               1\n",
       "Dzienny psychiatryczny reh. dla dzieci             1\n",
       "Hostel dla uzależnionych od śr.psychoakt.          1\n",
       "Oddział ginekologiczny dla dzieci                  1\n",
       "Name: count, Length: 196, dtype: int64"
      ]
     },
     "execution_count": 53,
     "metadata": {},
     "output_type": "execute_result"
    }
   ],
   "execution_count": 53
  },
  {
   "metadata": {},
   "cell_type": "markdown",
   "source": "as we can see, the hospitals differ most on their specialty",
   "id": "f287e919b39de0fb"
  },
  {
   "metadata": {
    "ExecuteTime": {
     "end_time": "2025-08-28T14:24:16.011522Z",
     "start_time": "2025-08-28T14:24:15.460933Z"
    }
   },
   "cell_type": "code",
   "source": [
    "ax = df['specjalnosc'].value_counts().head(10).sort_values().plot.barh(title=\"Najpopularniejsze specjalności na oddziałach spitalnych\")\n",
    "for container in ax.containers:\n",
    "\tax.bar_label(container)\n",
    "ax.set_ylabel(\"Specjalność\")\n",
    "ax.set_xlabel(\"Liczba oddziałów\")"
   ],
   "id": "8b07325ac9b58ebc",
   "outputs": [
    {
     "data": {
      "text/plain": [
       "Text(0.5, 0, 'Liczba oddziałów')"
      ]
     },
     "execution_count": 62,
     "metadata": {},
     "output_type": "execute_result"
    },
    {
     "data": {
      "text/plain": [
       "<Figure size 640x480 with 1 Axes>"
      ],
      "image/png": "[encoded data removed]"
     },
     "metadata": {},
     "output_type": "display_data"
    }
   ],
   "execution_count": 62
  },
  {
   "metadata": {
    "ExecuteTime": {
     "end_time": "2025-08-28T14:42:57.245095Z",
     "start_time": "2025-08-28T14:42:56.801898Z"
    }
   },
   "cell_type": "code",
   "source": [
    "ax = df['liczba_lozek_na_koniec_roku'].value_counts().head(50).sort_index().plot.bar(figsize=(15, 5))\n",
    "for container in ax.containers:\n",
    "\tax.bar_label(container)\n",
    "ax.set_ylabel(\"liczba oddziałów\")\n",
    "ax.set_xlabel(\"łóżka na koniec roku\")"
   ],
   "id": "2896224229dd3b4c",
   "outputs": [
    {
     "data": {
      "text/plain": [
       "Text(0.5, 0, 'łóżka na koniec roku')"
      ]
     },
     "execution_count": 80,
     "metadata": {},
     "output_type": "execute_result"
    },
    {
     "data": {
      "text/plain": [
       "<Figure size 1500x500 with 1 Axes>"
      ],
      "image/png": "[encoded data removed]"
     },
     "metadata": {},
     "output_type": "display_data"
    }
   ],
   "execution_count": 80
  },
  {
   "metadata": {
    "ExecuteTime": {
     "end_time": "2025-08-28T14:33:12.349981Z",
     "start_time": "2025-08-28T14:33:12.336979Z"
    }
   },
   "cell_type": "code",
   "source": "df.dtypes",
   "id": "d32d1ae2bece4133",
   "outputs": [
    {
     "data": {
      "text/plain": [
       "rok                              int64\n",
       "wojewodztwo                     object\n",
       "powiat                          object\n",
       "gmina                           object\n",
       "poziom_sieci                    object\n",
       "rodzaj_swiadczen                object\n",
       "specjalnosc                     object\n",
       "liczba_oddzialow                 int64\n",
       "liczba_lozek_na_koniec_roku      int64\n",
       "srednioroczna_liczba_lozek     float64\n",
       "dtype: object"
      ]
     },
     "execution_count": 70,
     "metadata": {},
     "output_type": "execute_result"
    }
   ],
   "execution_count": 70
  },
  {
   "metadata": {},
   "cell_type": "markdown",
   "source": "2. Loading data",
   "id": "1e21111f3d49f584"
  },
  {
   "metadata": {},
   "cell_type": "code",
   "outputs": [],
   "execution_count": null,
   "source": [
    "beds_df = pd.read_csv(\"data/Specjalnosci_lozka.csv\")\n",
    "beds_df.head()"
   ],
   "id": "8b825c1c51c49e7d"
  },
  {
   "metadata": {},
   "cell_type": "markdown",
   "source": "3. Data description",
   "id": "28aec26f0f7a93e5"
  },
  {
   "metadata": {},
   "cell_type": "code",
   "outputs": [],
   "execution_count": null,
   "source": [
    "print(beds_df.dtypes)\n",
    "beds_df.describe()"
   ],
   "id": "aa0d2c9bed00ea1b"
  },
  {
   "metadata": {},
   "cell_type": "markdown",
   "source": "4. Removing null values",
   "id": "ec598414705f0d74"
  },
  {
   "cell_type": "code",
   "id": "171d3eb07a201780",
   "metadata": {},
   "source": [
    "def display_distinct_values(column: str) -> None:\n",
    "\tprint(list(set(list(beds_df[column]))))"
   ],
   "outputs": [],
   "execution_count": null
  },
  {
   "cell_type": "markdown",
   "id": "dadb5ea138f9b5e7",
   "metadata": {},
   "source": [
    "5. Adjusting data types"
   ]
  },
  {
   "cell_type": "code",
   "id": "547c99c5e061daa7",
   "metadata": {},
   "source": [
    "beds_df['Średnioroczna liczba łóżek'] = beds_df['Średnioroczna liczba łóżek'].astype(str).str.replace(',', '.')"
   ],
   "outputs": [],
   "execution_count": null
  },
  {
   "cell_type": "code",
   "id": "b6d6a13a7dfc89ad",
   "metadata": {},
   "source": [
    "beds_df = beds_df.astype({'Liczba oddziałów': 'int64', 'Liczba łóżek 31.12': 'int64', 'Średnioroczna liczba łóżek': 'float64'})"
   ],
   "outputs": [],
   "execution_count": null
  },
  {
   "cell_type": "code",
   "id": "52e3d2fcea4c7e5e",
   "metadata": {},
   "source": [
    "beds_df"
   ],
   "outputs": [],
   "execution_count": null
  },
  {
   "cell_type": "markdown",
   "id": "7b652363c379d691",
   "metadata": {},
   "source": [
    "6. Plots"
   ]
  },
  {
   "cell_type": "code",
   "id": "d776e51a652d2a3d",
   "metadata": {},
   "source": [
    "beds_df.hist(figsize=(15, 15), bins=50, xlabelsize=10, ylabelsize=10)"
   ],
   "outputs": [],
   "execution_count": null
  },
  {
   "cell_type": "code",
   "id": "642d80baca9aed72",
   "metadata": {},
   "source": [
    "df = beds_df.loc[beds_df['Rok'] == 2023, ['Województwo', 'Liczba oddziałów']].groupby('Województwo').agg({'Liczba oddziałów': 'sum'})\n",
    "df = df.sort_values('Liczba oddziałów', ascending=False)\n",
    "df.plot(kind='bar', figsize=(10,5))\n",
    "plt.title('Liczba oddziałów na województwo')\n",
    "plt.ylabel('Liczba oddziałów')\n",
    "plt.xlabel('Województwo')"
   ],
   "outputs": [],
   "execution_count": null
  },
  {
   "cell_type": "code",
   "id": "7b474f2d99f9aeb3",
   "metadata": {},
   "source": [
    "print(beds_df.loc[beds_df['Rok'] == 2023].groupby('Województwo')['Liczba oddziałów'].sum().sort_values())"
   ],
   "outputs": [],
   "execution_count": null
  },
  {
   "cell_type": "code",
   "id": "621cd06a773ba93",
   "metadata": {},
   "source": [
    "df = beds_df.loc[beds_df['Rok'] == 2023, ['Województwo', 'Liczba łóżek 31.12']].groupby('Województwo').agg({'Liczba łóżek 31.12': 'sum'})\n",
    "df = df.sort_values('Liczba łóżek 31.12', ascending=False)\n",
    "df.plot(kind='bar', figsize=(10,5))\n",
    "plt.title('Liczba łóżek na województwo (stan na 31.12.2023')\n",
    "plt.ylabel('Liczba łóżek 31.12')\n",
    "plt.xlabel('Województwo')"
   ],
   "outputs": [],
   "execution_count": null
  },
  {
   "cell_type": "markdown",
   "id": "5b4b5e54770c3b7",
   "metadata": {},
   "source": [
    "mapka"
   ]
  },
  {
   "metadata": {},
   "cell_type": "code",
   "source": "beds_df",
   "id": "2c118d08de3aece",
   "outputs": [],
   "execution_count": null
  }
 ],
 "metadata": {
  "kernelspec": {
   "display_name": "EDA",
   "language": "python",
   "name": "python3"
  },
  "language_info": {
   "codemirror_mode": {
    "name": "ipython",
    "version": 3
   },
   "file_extension": ".py",
   "mimetype": "text/x-python",
   "name": "python",
   "nbconvert_exporter": "python",
   "pygments_lexer": "ipython3",
   "version": "3.13.5"
  }
 },
 "nbformat": 4,
 "nbformat_minor": 5
}
